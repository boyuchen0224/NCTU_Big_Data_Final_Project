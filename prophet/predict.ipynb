{
 "cells": [
  {
   "cell_type": "markdown",
   "metadata": {},
   "source": [
    "# Todo\n",
    "- [ ] Evaluate the forecast models\n",
    "   - [x] Build model for ~2018, and test for the first week of 2019\n",
    "   - [x] Measure the time of fitting\n",
    "   - [ ] Repeat this procedure for all 2018\n",
    "      - [x] Extract a week for input\n",
    "      - [x] Add the input into the training data\n",
    "      - [x] Forecast next week\n",
    "      - [ ] Forecast next one day"
   ]
  },
  {
   "cell_type": "markdown",
   "metadata": {},
   "source": [
    "# Dependency"
   ]
  },
  {
   "cell_type": "code",
   "execution_count": 61,
   "metadata": {},
   "outputs": [],
   "source": [
    "import warnings\n",
    "warnings.simplefilter(action='ignore', category=FutureWarning)\n",
    "import logging\n",
    "logging.getLogger('fbprophet').setLevel(logging.WARNING)\n",
    "\n",
    "import pandas as pd\n",
    "from fbprophet import Prophet\n",
    "import time\n",
    "from tqdm.notebook import tqdm"
   ]
  },
  {
   "cell_type": "markdown",
   "metadata": {},
   "source": [
    "# Load Training & Testing Data"
   ]
  },
  {
   "cell_type": "code",
   "execution_count": 78,
   "metadata": {},
   "outputs": [],
   "source": [
    "USED_CROPS = ['鳳梨-金鑽鳳梨', '香蕉', '青蔥-日蔥', '蓮霧-紅蓮霧', '芽菜類-黃豆牙', '南瓜-木瓜形', '大蒜-蒜仁', '小白菜-土白菜', '木瓜-網室紅肉', '洋香瓜-網狀紅肉']\n",
    "grouped = {}\n",
    "\n",
    "all_df = pd.read_csv('data/train.csv')\n",
    "all_df = all_df.loc[all_df['市場名稱'] == '台北一']\n",
    "all_df = all_df[all_df['作物名稱'].isin(USED_CROPS)]\n",
    "grouped['train'] = all_df.groupby(all_df.作物名稱)\n",
    "\n",
    "test_df = pd.read_csv('data/test.csv')\n",
    "test_df = test_df.loc[test_df['市場名稱'] == '台北一']\n",
    "test_df = test_df[test_df['作物名稱'].isin(USED_CROPS)]\n",
    "grouped['test'] = test_df.groupby(test_df.作物名稱)"
   ]
  },
  {
   "cell_type": "markdown",
   "metadata": {},
   "source": [
    "# Build Models"
   ]
  },
  {
   "cell_type": "code",
   "execution_count": 6,
   "metadata": {},
   "outputs": [],
   "source": [
    "def build_model(df, y_name):\n",
    "  df = df.rename(columns={y_name: 'y', 'DateTime': 'ds'})\n",
    "  df['ds'] = pd.to_datetime(df['ds'])\n",
    "  \n",
    "  # fit a model\n",
    "  m = Prophet()\n",
    "  m.fit(df)\n",
    "  return m  "
   ]
  },
  {
   "cell_type": "markdown",
   "metadata": {},
   "source": [
    "# Define the date separate points\n",
    "## Create weekly sequence for 2019"
   ]
  },
  {
   "cell_type": "code",
   "execution_count": 91,
   "metadata": {},
   "outputs": [],
   "source": [
    "DATE_POINTS = []\n",
    "start_date = pd.to_datetime('2019-01-01') - pd.DateOffset(days=7)\n",
    "end_date = start_date\n",
    "\n",
    "while end_date < pd.to_datetime('2020-01-01'):\n",
    "  start_date = end_date\n",
    "  end_date = pd.to_datetime(start_date) + pd.DateOffset(days=7)\n",
    "  DATE_POINTS.append((start_date, end_date))"
   ]
  },
  {
   "cell_type": "markdown",
   "metadata": {},
   "source": [
    "## Create the 7-day sequence for 2019"
   ]
  },
  {
   "cell_type": "code",
   "execution_count": 55,
   "metadata": {},
   "outputs": [],
   "source": [
    "INPUTS = []\n",
    "start_date = pd.to_datetime('2019-01-01')\n",
    "end_date = start_date\n",
    "\n",
    "while end_date < pd.to_datetime('2020-01-01'):\n",
    "  end_date = pd.to_datetime(start_date) + pd.DateOffset(days=7)\n",
    "  start_date = start_date + pd.DateOffset(days=1)\n",
    "  INPUTS.append((start_date, end_date))"
   ]
  },
  {
   "cell_type": "markdown",
   "metadata": {},
   "source": [
    "## Notes"
   ]
  },
  {
   "cell_type": "markdown",
   "metadata": {},
   "source": [
    "### Extract 7 days from the testing data"
   ]
  },
  {
   "cell_type": "code",
   "execution_count": 79,
   "metadata": {
    "scrolled": true
   },
   "outputs": [],
   "source": [
    "# test_1 = test_data[(pd.to_datetime(test_data['DateTime']) >= DATE_POINTS[1]) & (pd.to_datetime(test_data['DateTime']) < DATE_POINTS[2])]\n",
    "# test_2 = test_data[(pd.to_datetime(test_data['DateTime']) >= DATE_POINTS[2]) & (pd.to_datetime(test_data['DateTime']) < DATE_POINTS[3])]\n",
    "# testing = forecast[(forecast['ds'] >= '2019-01-01') & (forecast['ds'] < '2019-12-31')]"
   ]
  },
  {
   "cell_type": "code",
   "execution_count": 7,
   "metadata": {},
   "outputs": [],
   "source": [
    "df = grouped_df.get_group('香蕉')\n",
    "df_price = df[['平均價', 'DateTime']]\n",
    "model = build_model(df_price, '平均價')\n",
    "future = model.make_future_dataframe(periods=365)\n",
    "forecast = model.predict(future)"
   ]
  },
  {
   "cell_type": "code",
   "execution_count": 28,
   "metadata": {},
   "outputs": [],
   "source": [
    "test_data = test_grouped_df.get_group('香蕉')"
   ]
  },
  {
   "cell_type": "markdown",
   "metadata": {},
   "source": [
    "# Iterate over groups"
   ]
  },
  {
   "cell_type": "code",
   "execution_count": 80,
   "metadata": {},
   "outputs": [
    {
     "name": "stdout",
     "output_type": "stream",
     "text": [
      "南瓜-木瓜形\n",
      "大蒜-蒜仁\n",
      "小白菜-土白菜\n",
      "木瓜-網室紅肉\n",
      "洋香瓜-網狀紅肉\n",
      "芽菜類-黃豆牙\n",
      "蓮霧-紅蓮霧\n",
      "青蔥-日蔥\n",
      "香蕉\n",
      "鳳梨-金鑽鳳梨\n"
     ]
    }
   ],
   "source": [
    "for group in grouped_df.groups:\n",
    "  df = grouped_df.get_group(group)\n",
    "  df_price = df[['平均價', 'DateTime']]\n",
    "  df_return_1 = df[['1_day_return', 'DateTime']]\n",
    "  df_return_3 = df[['3_day_return', 'DateTime']]\n",
    "  df_return_5 = df[['5_day_return', 'DateTime']]\n",
    "  print(group)"
   ]
  },
  {
   "cell_type": "markdown",
   "metadata": {},
   "source": [
    "# Predict the whole year (output = week)"
   ]
  },
  {
   "cell_type": "code",
   "execution_count": 92,
   "metadata": {},
   "outputs": [],
   "source": [
    "def predict_weekly(train_data, test_data, name='', target='平均價', save_file=True):\n",
    "  prediction = []\n",
    "  pbar = tqdm(total=len(DATE_POINTS))\n",
    "  \n",
    "  for d in DATE_POINTS:\n",
    "    # extract the 7-day input\n",
    "    input_data = test_data[(pd.to_datetime(test_data['DateTime']) >= d[START]) & \\\n",
    "                         (pd.to_datetime(test_data['DateTime']) < d[END])]\n",
    "    # add to the training data\n",
    "    new_train = pd.concat([train_data, input_data])\n",
    "    train_price = new_train[[target, 'DateTime']]\n",
    "    model = build_model(new_train, target)\n",
    "    future = model.make_future_dataframe(periods=7)\n",
    "    forecast = model.predict(future)\n",
    "    \n",
    "    # extract the predict result\n",
    "    forecast = forecast[(forecast['ds'] >= d[END])]\n",
    "    prediction.append(forecast)\n",
    "    \n",
    "    pbar.update(1)\n",
    "  \n",
    "  pbar.close()\n",
    "  \n",
    "  total_result = pd.concat(prediction)\n",
    "  if save_file:\n",
    "    total_result.to_csv(f'result/predict/{name}_{target}_pred_week.csv', index = False)"
   ]
  },
  {
   "cell_type": "markdown",
   "metadata": {},
   "source": [
    "## Predict all the crops"
   ]
  },
  {
   "cell_type": "code",
   "execution_count": 93,
   "metadata": {},
   "outputs": [
    {
     "name": "stdout",
     "output_type": "stream",
     "text": [
      "# 南瓜-木瓜形 (1/10)\n"
     ]
    },
    {
     "data": {
      "application/vnd.jupyter.widget-view+json": {
       "model_id": "f1137891cc294acd92ced53bacbf373d",
       "version_major": 2,
       "version_minor": 0
      },
      "text/plain": [
       "HBox(children=(HTML(value=''), FloatProgress(value=0.0, max=54.0), HTML(value='')))"
      ]
     },
     "metadata": {},
     "output_type": "display_data"
    },
    {
     "name": "stdout",
     "output_type": "stream",
     "text": [
      "\n"
     ]
    },
    {
     "data": {
      "application/vnd.jupyter.widget-view+json": {
       "model_id": "cbef7e76c6514ec5a94d9c4b784c4cfd",
       "version_major": 2,
       "version_minor": 0
      },
      "text/plain": [
       "HBox(children=(HTML(value=''), FloatProgress(value=0.0, max=54.0), HTML(value='')))"
      ]
     },
     "metadata": {},
     "output_type": "display_data"
    },
    {
     "name": "stdout",
     "output_type": "stream",
     "text": [
      "\n",
      "# 大蒜-蒜仁 (2/10)\n"
     ]
    },
    {
     "data": {
      "application/vnd.jupyter.widget-view+json": {
       "model_id": "3cebf267cb684a229e917b228a61fef2",
       "version_major": 2,
       "version_minor": 0
      },
      "text/plain": [
       "HBox(children=(HTML(value=''), FloatProgress(value=0.0, max=54.0), HTML(value='')))"
      ]
     },
     "metadata": {},
     "output_type": "display_data"
    },
    {
     "name": "stdout",
     "output_type": "stream",
     "text": [
      "\n"
     ]
    },
    {
     "data": {
      "application/vnd.jupyter.widget-view+json": {
       "model_id": "a52610465d024e1c90d05e346b7bfea2",
       "version_major": 2,
       "version_minor": 0
      },
      "text/plain": [
       "HBox(children=(HTML(value=''), FloatProgress(value=0.0, max=54.0), HTML(value='')))"
      ]
     },
     "metadata": {},
     "output_type": "display_data"
    },
    {
     "name": "stdout",
     "output_type": "stream",
     "text": [
      "\n",
      "# 小白菜-土白菜 (3/10)\n"
     ]
    },
    {
     "data": {
      "application/vnd.jupyter.widget-view+json": {
       "model_id": "6bfb9684ee934355940bfb7a6fc05834",
       "version_major": 2,
       "version_minor": 0
      },
      "text/plain": [
       "HBox(children=(HTML(value=''), FloatProgress(value=0.0, max=54.0), HTML(value='')))"
      ]
     },
     "metadata": {},
     "output_type": "display_data"
    },
    {
     "name": "stdout",
     "output_type": "stream",
     "text": [
      "\n"
     ]
    },
    {
     "data": {
      "application/vnd.jupyter.widget-view+json": {
       "model_id": "b4438c6e037c41b29c2d6604ac5f906f",
       "version_major": 2,
       "version_minor": 0
      },
      "text/plain": [
       "HBox(children=(HTML(value=''), FloatProgress(value=0.0, max=54.0), HTML(value='')))"
      ]
     },
     "metadata": {},
     "output_type": "display_data"
    },
    {
     "name": "stdout",
     "output_type": "stream",
     "text": [
      "\n",
      "# 木瓜-網室紅肉 (4/10)\n"
     ]
    },
    {
     "data": {
      "application/vnd.jupyter.widget-view+json": {
       "model_id": "bd063e28580e4e33b3c8a96f940d42d5",
       "version_major": 2,
       "version_minor": 0
      },
      "text/plain": [
       "HBox(children=(HTML(value=''), FloatProgress(value=0.0, max=54.0), HTML(value='')))"
      ]
     },
     "metadata": {},
     "output_type": "display_data"
    },
    {
     "name": "stdout",
     "output_type": "stream",
     "text": [
      "\n"
     ]
    },
    {
     "data": {
      "application/vnd.jupyter.widget-view+json": {
       "model_id": "fad6a8ac33ea47cd8002aac5e352a080",
       "version_major": 2,
       "version_minor": 0
      },
      "text/plain": [
       "HBox(children=(HTML(value=''), FloatProgress(value=0.0, max=54.0), HTML(value='')))"
      ]
     },
     "metadata": {},
     "output_type": "display_data"
    },
    {
     "name": "stdout",
     "output_type": "stream",
     "text": [
      "\n",
      "# 洋香瓜-網狀紅肉 (5/10)\n"
     ]
    },
    {
     "data": {
      "application/vnd.jupyter.widget-view+json": {
       "model_id": "4064e1fe84f2470795bbcc2ced7f25b4",
       "version_major": 2,
       "version_minor": 0
      },
      "text/plain": [
       "HBox(children=(HTML(value=''), FloatProgress(value=0.0, max=54.0), HTML(value='')))"
      ]
     },
     "metadata": {},
     "output_type": "display_data"
    },
    {
     "name": "stdout",
     "output_type": "stream",
     "text": [
      "\n"
     ]
    },
    {
     "data": {
      "application/vnd.jupyter.widget-view+json": {
       "model_id": "a45f8df40be7402f81bef5bb9484362e",
       "version_major": 2,
       "version_minor": 0
      },
      "text/plain": [
       "HBox(children=(HTML(value=''), FloatProgress(value=0.0, max=54.0), HTML(value='')))"
      ]
     },
     "metadata": {},
     "output_type": "display_data"
    },
    {
     "name": "stdout",
     "output_type": "stream",
     "text": [
      "\n",
      "# 芽菜類-黃豆牙 (6/10)\n"
     ]
    },
    {
     "data": {
      "application/vnd.jupyter.widget-view+json": {
       "model_id": "f313f9015938433aacf6a1e0668ed887",
       "version_major": 2,
       "version_minor": 0
      },
      "text/plain": [
       "HBox(children=(HTML(value=''), FloatProgress(value=0.0, max=54.0), HTML(value='')))"
      ]
     },
     "metadata": {},
     "output_type": "display_data"
    },
    {
     "name": "stdout",
     "output_type": "stream",
     "text": [
      "\n"
     ]
    },
    {
     "data": {
      "application/vnd.jupyter.widget-view+json": {
       "model_id": "c454978c559d46789b19ed2118fa3852",
       "version_major": 2,
       "version_minor": 0
      },
      "text/plain": [
       "HBox(children=(HTML(value=''), FloatProgress(value=0.0, max=54.0), HTML(value='')))"
      ]
     },
     "metadata": {},
     "output_type": "display_data"
    },
    {
     "name": "stdout",
     "output_type": "stream",
     "text": [
      "\n",
      "# 蓮霧-紅蓮霧 (7/10)\n"
     ]
    },
    {
     "data": {
      "application/vnd.jupyter.widget-view+json": {
       "model_id": "67f810b893c549eb85759963181de8ab",
       "version_major": 2,
       "version_minor": 0
      },
      "text/plain": [
       "HBox(children=(HTML(value=''), FloatProgress(value=0.0, max=54.0), HTML(value='')))"
      ]
     },
     "metadata": {},
     "output_type": "display_data"
    },
    {
     "name": "stdout",
     "output_type": "stream",
     "text": [
      "\n"
     ]
    },
    {
     "data": {
      "application/vnd.jupyter.widget-view+json": {
       "model_id": "ac8d3f8f02b14cc99a3e559dca1775a1",
       "version_major": 2,
       "version_minor": 0
      },
      "text/plain": [
       "HBox(children=(HTML(value=''), FloatProgress(value=0.0, max=54.0), HTML(value='')))"
      ]
     },
     "metadata": {},
     "output_type": "display_data"
    },
    {
     "name": "stdout",
     "output_type": "stream",
     "text": [
      "\n",
      "# 青蔥-日蔥 (8/10)\n"
     ]
    },
    {
     "data": {
      "application/vnd.jupyter.widget-view+json": {
       "model_id": "71b1a1e17c864d76a38ed6aef13c3599",
       "version_major": 2,
       "version_minor": 0
      },
      "text/plain": [
       "HBox(children=(HTML(value=''), FloatProgress(value=0.0, max=54.0), HTML(value='')))"
      ]
     },
     "metadata": {},
     "output_type": "display_data"
    },
    {
     "name": "stdout",
     "output_type": "stream",
     "text": [
      "\n"
     ]
    },
    {
     "data": {
      "application/vnd.jupyter.widget-view+json": {
       "model_id": "e2cbac9378704041bff9abf389017a5c",
       "version_major": 2,
       "version_minor": 0
      },
      "text/plain": [
       "HBox(children=(HTML(value=''), FloatProgress(value=0.0, max=54.0), HTML(value='')))"
      ]
     },
     "metadata": {},
     "output_type": "display_data"
    },
    {
     "name": "stdout",
     "output_type": "stream",
     "text": [
      "\n",
      "# 香蕉 (9/10)\n"
     ]
    },
    {
     "data": {
      "application/vnd.jupyter.widget-view+json": {
       "model_id": "1553b02ceff2474f990ed683c16a0865",
       "version_major": 2,
       "version_minor": 0
      },
      "text/plain": [
       "HBox(children=(HTML(value=''), FloatProgress(value=0.0, max=54.0), HTML(value='')))"
      ]
     },
     "metadata": {},
     "output_type": "display_data"
    },
    {
     "name": "stdout",
     "output_type": "stream",
     "text": [
      "\n"
     ]
    },
    {
     "data": {
      "application/vnd.jupyter.widget-view+json": {
       "model_id": "9b1d92358e9049a59411dda9cca35f8e",
       "version_major": 2,
       "version_minor": 0
      },
      "text/plain": [
       "HBox(children=(HTML(value=''), FloatProgress(value=0.0, max=54.0), HTML(value='')))"
      ]
     },
     "metadata": {},
     "output_type": "display_data"
    },
    {
     "name": "stdout",
     "output_type": "stream",
     "text": [
      "\n",
      "# 鳳梨-金鑽鳳梨 (10/10)\n"
     ]
    },
    {
     "data": {
      "application/vnd.jupyter.widget-view+json": {
       "model_id": "8ea7314eec224b8c976d050132b844fb",
       "version_major": 2,
       "version_minor": 0
      },
      "text/plain": [
       "HBox(children=(HTML(value=''), FloatProgress(value=0.0, max=54.0), HTML(value='')))"
      ]
     },
     "metadata": {},
     "output_type": "display_data"
    },
    {
     "name": "stdout",
     "output_type": "stream",
     "text": [
      "\n"
     ]
    },
    {
     "data": {
      "application/vnd.jupyter.widget-view+json": {
       "model_id": "b27b388db5b343d1839c43977789aede",
       "version_major": 2,
       "version_minor": 0
      },
      "text/plain": [
       "HBox(children=(HTML(value=''), FloatProgress(value=0.0, max=54.0), HTML(value='')))"
      ]
     },
     "metadata": {},
     "output_type": "display_data"
    },
    {
     "name": "stdout",
     "output_type": "stream",
     "text": [
      "\n"
     ]
    }
   ],
   "source": [
    "for group in grouped_df.groups:\n",
    "  print(f\"# {group} ({list(grouped_df.groups.keys()).index(group)+1}/{len(grouped_df.groups)})\", flush=True)\n",
    "  train_data = grouped['train'].get_group(group)\n",
    "  test_data = grouped['test'].get_group(group)\n",
    "  predict_weekly(train_data, test_data, name=group, target='平均價')\n",
    "  predict_weekly(train_data, test_data, name=group, target='3_day_return')"
   ]
  },
  {
   "cell_type": "markdown",
   "metadata": {},
   "source": [
    "# Backup"
   ]
  },
  {
   "cell_type": "code",
   "execution_count": 76,
   "metadata": {},
   "outputs": [
    {
     "data": {
      "application/vnd.jupyter.widget-view+json": {
       "model_id": "c0accdf85e6b49af940c130357d6ae8a",
       "version_major": 2,
       "version_minor": 0
      },
      "text/plain": [
       "HBox(children=(HTML(value=''), FloatProgress(value=0.0, max=53.0), HTML(value='')))"
      ]
     },
     "metadata": {},
     "output_type": "display_data"
    },
    {
     "name": "stdout",
     "output_type": "stream",
     "text": [
      "\n"
     ]
    }
   ],
   "source": [
    "START = 0\n",
    "END = 1\n",
    "\n",
    "prediction = []\n",
    "pbar = tqdm(total=len(DATE_POINTS))\n",
    "\n",
    "for d in DATE_POINTS:\n",
    "  input_data = test_data[(pd.to_datetime(test_data['DateTime']) >= d[START]) & \\\n",
    "                         (pd.to_datetime(test_data['DateTime']) < d[END])]\n",
    "  # add to the training data\n",
    "  input_price = input_data[['平均價', 'DateTime']]\n",
    "  new_train = pd.concat([df_price, input_price])\n",
    "  model = build_model(new_train, '平均價')\n",
    "  future = model.make_future_dataframe(periods=7)\n",
    "  forecast = model.predict(future)\n",
    "  \n",
    "  # extract the predict result\n",
    "  forecast = forecast[(forecast['ds'] >= d[END])]\n",
    "  prediction.append(forecast)\n",
    "  \n",
    "  pbar.update(1)\n",
    "pbar.close()\n",
    "\n",
    "total_result = pd.concat(prediction)\n",
    "total_result.to_csv('result/banana_week_pred.csv', index = False)"
   ]
  }
 ],
 "metadata": {
  "kernelspec": {
   "display_name": "Python 3",
   "language": "python",
   "name": "python3"
  },
  "language_info": {
   "codemirror_mode": {
    "name": "ipython",
    "version": 3
   },
   "file_extension": ".py",
   "mimetype": "text/x-python",
   "name": "python",
   "nbconvert_exporter": "python",
   "pygments_lexer": "ipython3",
   "version": "3.6.9"
  }
 },
 "nbformat": 4,
 "nbformat_minor": 2
}
