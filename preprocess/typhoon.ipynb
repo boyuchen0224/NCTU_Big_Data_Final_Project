{
 "cells": [
  {
   "cell_type": "markdown",
   "metadata": {},
   "source": [
    "# Extract Typhoon Data"
   ]
  },
  {
   "cell_type": "code",
   "execution_count": 2,
   "metadata": {},
   "outputs": [],
   "source": [
    "import pandas as pd\n",
    "import numpy as np\n",
    "tp_data = pd.read_csv('../price_with_typhoon_utf8.csv')"
   ]
  },
  {
   "cell_type": "code",
   "execution_count": 3,
   "metadata": {},
   "outputs": [],
   "source": [
    "# clean up redundant data\n",
    "USED_CROPS = ['香蕉']\n",
    "USED_MARKET = ['台北一']\n",
    "tp_data = tp_data[tp_data['作物名稱'].isin(USED_CROPS)]\n",
    "tp_data = tp_data[tp_data['市場名稱'].isin(USED_MARKET)]\n",
    "\n",
    "tp_data = tp_data[['DateTime', '入台時間', '離台時間', '強度', '警報發布報數']]"
   ]
  },
  {
   "cell_type": "markdown",
   "metadata": {},
   "source": [
    "\n",
    "# Find typhoon periods"
   ]
  },
  {
   "cell_type": "code",
   "execution_count": 16,
   "metadata": {},
   "outputs": [],
   "source": [
    "\"\"\"\n",
    "[ 'President', 'Thomas Jefferson', new Date(1801, 2, 4), new Date(1809, 2, 4)],\n",
    "[ 'Vice President', 'John Adams', new Date(1789, 3, 21), new Date(1797, 2, 4)],\n",
    "\"\"\"\n",
    "\n",
    "\"\"\"\n",
    "[ '入台時間', '強度', 'start-date', 'end-date'],\n",
    "[ '颱風警報', '強度？', 'start-date', 'end-date'],\n",
    "\"\"\"\n",
    "\n",
    "\n",
    "typhoons = {'type':[], '強度':[], 'start-date':[], 'end-date':[]}\n",
    "new_typhoon = []\n",
    "tp_data = tp_data.fillna(0)\n",
    "for _, row in tp_data.iterrows():\n",
    "  if row['入台時間'] != 0:\n",
    "    new_typhoon.append(row)\n",
    "  elif len(new_typhoon) != 0:\n",
    "    \n",
    "    typhoons['type'].append('入台時間')\n",
    "    typhoons['強度'].append(new_typhoon[0]['強度'])\n",
    "    typhoons['start-date'].append(new_typhoon[0]['入台時間'])\n",
    "    typhoons['end-date'].append(new_typhoon[0]['離台時間'])\n",
    "    \n",
    "    new_typhoon = []"
   ]
  },
  {
   "cell_type": "code",
   "execution_count": 18,
   "metadata": {},
   "outputs": [],
   "source": [
    "typhoon_data = pd.DataFrame(typhoons)\n",
    "typhoon_data.to_csv('typhoon.csv', index=False)"
   ]
  }
 ],
 "metadata": {
  "kernelspec": {
   "display_name": "Python 3",
   "language": "python",
   "name": "python3"
  },
  "language_info": {
   "codemirror_mode": {
    "name": "ipython",
    "version": 3
   },
   "file_extension": ".py",
   "mimetype": "text/x-python",
   "name": "python",
   "nbconvert_exporter": "python",
   "pygments_lexer": "ipython3",
   "version": "3.6.9"
  }
 },
 "nbformat": 4,
 "nbformat_minor": 2
}
