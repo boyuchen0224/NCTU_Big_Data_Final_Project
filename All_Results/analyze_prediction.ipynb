{
 "cells": [
  {
   "cell_type": "markdown",
   "metadata": {},
   "source": [
    "### Calculate difference of original 3 day return and predicted 3 day return"
   ]
  },
  {
   "cell_type": "code",
   "execution_count": 1,
   "metadata": {},
   "outputs": [],
   "source": [
    "import pandas as pd\n",
    "import numpy as np"
   ]
  },
  {
   "cell_type": "code",
   "execution_count": 12,
   "metadata": {},
   "outputs": [
    {
     "name": "stdout",
     "output_type": "stream",
     "text": [
      "difference of 3 day return\n",
      "香蕉 10.89\n",
      "洋香瓜 21.18\n",
      "蓮霧 19.12\n",
      "鳳梨 18.2\n",
      "南瓜 11.61\n",
      "大蒜 4.52\n",
      "青蔥 28.62\n",
      "小白菜 33.85\n",
      "芽菜類 1.13\n",
      "木瓜 25.78\n",
      "\n",
      "difference of Price\n",
      "香蕉 1.79\n",
      "洋香瓜 7.39\n",
      "蓮霧 13.92\n",
      "鳳梨 3.61\n",
      "南瓜 2.2\n",
      "大蒜 2.89\n",
      "青蔥 22.11\n",
      "小白菜 5.27\n",
      "芽菜類 0.07\n",
      "木瓜 3.51\n"
     ]
    }
   ],
   "source": [
    "# LSTM1\n",
    "veg = ['香蕉','洋香瓜','蓮霧','鳳梨','南瓜','大蒜','青蔥','小白菜','芽菜類','木瓜']\n",
    "\n",
    "print(\"difference of 3 day return\")\n",
    "for i in range(len(veg)):\n",
    "    day_return = pd.read_csv(\"./LSTM1_csv/2019_台北一_\"+veg[i]+\"_3_day_return.csv\")\n",
    "    \n",
    "    result = np.sum(np.abs(day_return[\"3_day_return\"]-day_return[\"3_day_return_pred\"]))/len(day_return)\n",
    "    print(veg[i],np.round(result,2))\n",
    "\n",
    "print(\"\\ndifference of Price\")\n",
    "for i in range(len(veg)):\n",
    "    price = pd.read_csv(\"./LSTM1_csv/2019_台北一_\"+veg[i]+\"_Price.csv\")\n",
    "    \n",
    "    result1 = np.sum(np.abs(price[\"Price\"]-price[\"Price_pred\"]))/len(price)\n",
    "    print(veg[i],np.round(result1,2))"
   ]
  },
  {
   "cell_type": "code",
   "execution_count": 13,
   "metadata": {},
   "outputs": [
    {
     "name": "stdout",
     "output_type": "stream",
     "text": [
      "difference of 3 day return\n",
      "香蕉 6.31\n",
      "洋香瓜-網狀紅肉 13.63\n",
      "蓮霧-紅蓮霧 10.69\n",
      "鳳梨-金鑽鳳梨 10.16\n",
      "南瓜-木瓜形 8.12\n",
      "大蒜-蒜仁 1.86\n",
      "青蔥-日蔥 12.83\n",
      "小白菜-土白菜 15.95\n",
      "芽菜類-黃豆牙 1.42\n",
      "木瓜-網室紅肉 10.82\n",
      "\n",
      "difference of Price\n",
      "香蕉 9.83\n",
      "洋香瓜-網狀紅肉 6.97\n",
      "蓮霧-紅蓮霧 18.56\n",
      "鳳梨-金鑽鳳梨 4.83\n",
      "南瓜-木瓜形 7.86\n",
      "大蒜-蒜仁 36.54\n",
      "青蔥-日蔥 70.37\n",
      "小白菜-土白菜 9.28\n",
      "芽菜類-黃豆牙 0.24\n",
      "木瓜-網室紅肉 6.45\n"
     ]
    }
   ],
   "source": [
    "# LSTM2\n",
    "veg = ['香蕉','洋香瓜-網狀紅肉','蓮霧-紅蓮霧','鳳梨-金鑽鳳梨','南瓜-木瓜形',\n",
    "        '大蒜-蒜仁','青蔥-日蔥','小白菜-土白菜','芽菜類-黃豆牙','木瓜-網室紅肉']\n",
    "\n",
    "print(\"difference of 3 day return\")\n",
    "for i in range(len(veg)):\n",
    "    day_return = pd.read_csv(\"./LSTM2_csv/\"+veg[i]+\"_3_day_return.csv\")\n",
    "    \n",
    "    result = np.sum(np.abs(day_return[\"Original\"]-day_return[\"Predict\"]))/len(day_return)\n",
    "    print(veg[i],np.round(result,2))\n",
    "\n",
    "print(\"\\ndifference of Price\")\n",
    "for i in range(len(veg)):\n",
    "    price = pd.read_csv(\"./LSTM2_csv/\"+veg[i]+\"_Price.csv\")\n",
    "    \n",
    "    result1 = np.sum(np.abs(price[\"Original\"]-price[\"Predict\"]))/len(price)\n",
    "    print(veg[i],np.round(result1,2))"
   ]
  },
  {
   "cell_type": "code",
   "execution_count": 14,
   "metadata": {},
   "outputs": [
    {
     "name": "stdout",
     "output_type": "stream",
     "text": [
      "difference of 3 day return _fs\n",
      "香蕉 5.51\n",
      "洋香瓜-網狀紅肉 19.62\n",
      "蓮霧-紅蓮霧 10.79\n",
      "鳳梨-金鑽鳳梨 6.74\n",
      "南瓜-木瓜形 7.82\n",
      "大蒜-蒜仁 1.6\n",
      "青蔥-日蔥 12.62\n",
      "小白菜-土白菜 15.43\n",
      "芽菜類-黃豆牙 0.51\n",
      "木瓜-網室紅肉 17.56\n",
      "\n",
      "difference of Price _fs\n",
      "香蕉 6.51\n",
      "洋香瓜-網狀紅肉 6.6\n",
      "蓮霧-紅蓮霧 14.42\n",
      "鳳梨-金鑽鳳梨 6.05\n",
      "南瓜-木瓜形 5.1\n",
      "大蒜-蒜仁 35.92\n",
      "青蔥-日蔥 79.6\n",
      "小白菜-土白菜 8.03\n",
      "芽菜類-黃豆牙 0.71\n",
      "木瓜-網室紅肉 8.99\n"
     ]
    }
   ],
   "source": [
    "# LSTM2 with feature selection\n",
    "\n",
    "veg = ['香蕉','洋香瓜-網狀紅肉','蓮霧-紅蓮霧','鳳梨-金鑽鳳梨','南瓜-木瓜形',\n",
    "        '大蒜-蒜仁','青蔥-日蔥','小白菜-土白菜','芽菜類-黃豆牙','木瓜-網室紅肉']\n",
    "\n",
    "print(\"difference of 3 day return _fs\")\n",
    "for i in range(len(veg)):\n",
    "    day_return = pd.read_csv(\"./LSTM2_csv/\"+veg[i]+\"_3_day_return_fs.csv\")\n",
    "    \n",
    "    result = np.sum(np.abs(day_return[\"Original\"]-day_return[\"Predict\"]))/len(day_return)\n",
    "    print(veg[i],np.round(result,2))\n",
    "\n",
    "print(\"\\ndifference of Price _fs\")\n",
    "for i in range(len(veg)):\n",
    "    price = pd.read_csv(\"./LSTM2_csv/\"+veg[i]+\"_Price_fs.csv\")\n",
    "    \n",
    "    result1 = np.sum(np.abs(price[\"Original\"]-price[\"Predict\"]))/len(price)\n",
    "    print(veg[i],np.round(result1,2))"
   ]
  },
  {
   "cell_type": "code",
   "execution_count": 16,
   "metadata": {},
   "outputs": [
    {
     "name": "stdout",
     "output_type": "stream",
     "text": [
      "difference of 3 day return\n",
      "香蕉 7.76\n",
      "洋香瓜 15.92\n",
      "蓮霧 12.43\n",
      "鳳梨 11.65\n",
      "南瓜 10.41\n",
      "大蒜 1.31\n",
      "青蔥 13.98\n",
      "小白菜 21.43\n",
      "芽菜類 0.41\n",
      "木瓜 13.41\n",
      "\n",
      "difference of Price\n",
      "香蕉 1.3\n",
      "洋香瓜 6.39\n",
      "蓮霧 10.1\n",
      "鳳梨 3.11\n",
      "南瓜 2.0\n",
      "大蒜 1.34\n",
      "青蔥 22.29\n",
      "小白菜 5.71\n",
      "芽菜類 0.1\n",
      "木瓜 4.25\n"
     ]
    }
   ],
   "source": [
    "# ARIMA\n",
    "\n",
    "veg = ['香蕉','洋香瓜','蓮霧','鳳梨','南瓜','大蒜','青蔥','小白菜','芽菜類','木瓜']\n",
    "\n",
    "print(\"difference of 3 day return\")\n",
    "for i in range(len(veg)):\n",
    "    day_return = pd.read_csv(\"./ARIMA_csv/\"+veg[i]+\"_3DayReturn.csv\")\n",
    "    \n",
    "    result = np.sum(np.abs(day_return[\"original\"]-day_return[\"predict\"]))/len(day_return)\n",
    "    print(veg[i],np.round(result,2))\n",
    "\n",
    "print(\"\\ndifference of Price\")\n",
    "for i in range(len(veg)):\n",
    "    price = pd.read_csv(\"./ARIMA_csv/\"+veg[i]+\"_price.csv\")\n",
    "    \n",
    "    result1 = np.sum(np.abs(price[\"original\"]-price[\"predict\"]))/len(price)\n",
    "    print(veg[i],np.round(result1,2))"
   ]
  },
  {
   "cell_type": "code",
   "execution_count": 18,
   "metadata": {},
   "outputs": [
    {
     "name": "stdout",
     "output_type": "stream",
     "text": [
      "difference of 3 day return\n",
      "香蕉 8.1\n",
      "洋香瓜-網狀紅肉 17.35\n",
      "蓮霧-紅蓮霧 12.34\n",
      "鳳梨-金鑽鳳梨 11.57\n",
      "南瓜-木瓜形 10.46\n",
      "大蒜-蒜仁 1.79\n",
      "青蔥-日蔥 15.21\n",
      "小白菜-土白菜 22.91\n",
      "芽菜類-黃豆牙 0.76\n",
      "木瓜-網室紅肉 15.15\n",
      "\n",
      "difference of Price\n",
      "香蕉 6.22\n",
      "洋香瓜-網狀紅肉 7.22\n",
      "蓮霧-紅蓮霧 15.71\n",
      "鳳梨-金鑽鳳梨 7.76\n",
      "南瓜-木瓜形 5.39\n",
      "大蒜-蒜仁 53.18\n",
      "青蔥-日蔥 95.36\n",
      "小白菜-土白菜 7.27\n",
      "芽菜類-黃豆牙 0.4\n",
      "木瓜-網室紅肉 14.4\n"
     ]
    }
   ],
   "source": [
    "#Prophet\n",
    "\n",
    "veg = ['香蕉','洋香瓜-網狀紅肉','蓮霧-紅蓮霧','鳳梨-金鑽鳳梨','南瓜-木瓜形',\n",
    "        '大蒜-蒜仁','青蔥-日蔥','小白菜-土白菜','芽菜類-黃豆牙','木瓜-網室紅肉']\n",
    "\n",
    "print(\"difference of 3 day return\")\n",
    "for i in range(len(veg)):\n",
    "    day_return = pd.read_csv(\"./Prophet_csv/\"+veg[i]+\"_3_day_return.csv\")\n",
    "    \n",
    "    result = np.sum(np.abs(day_return[\"3_day_return\"]-day_return[\"predict\"]))/len(day_return)\n",
    "    print(veg[i],np.round(result,2))\n",
    "\n",
    "print(\"\\ndifference of Price\")\n",
    "for i in range(len(veg)):\n",
    "    price = pd.read_csv(\"./Prophet_csv/\"+veg[i]+\"_平均價.csv\")\n",
    "    \n",
    "    result1 = np.sum(np.abs(price[\"平均價\"]-price[\"predict\"]))/len(price)\n",
    "    print(veg[i],np.round(result1,2))"
   ]
  },
  {
   "cell_type": "code",
   "execution_count": null,
   "metadata": {},
   "outputs": [],
   "source": []
  },
  {
   "cell_type": "code",
   "execution_count": null,
   "metadata": {},
   "outputs": [],
   "source": []
  }
 ],
 "metadata": {
  "kernelspec": {
   "display_name": "Python 3",
   "language": "python",
   "name": "python3"
  },
  "language_info": {
   "codemirror_mode": {
    "name": "ipython",
    "version": 3
   },
   "file_extension": ".py",
   "mimetype": "text/x-python",
   "name": "python",
   "nbconvert_exporter": "python",
   "pygments_lexer": "ipython3",
   "version": "3.7.6"
  }
 },
 "nbformat": 4,
 "nbformat_minor": 4
}
