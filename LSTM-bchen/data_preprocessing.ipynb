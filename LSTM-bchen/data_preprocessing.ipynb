{
 "cells": [
  {
   "cell_type": "code",
   "execution_count": 24,
   "metadata": {},
   "outputs": [],
   "source": [
    "import warnings\n",
    "warnings.simplefilter(action='ignore', category=FutureWarning)\n",
    "import pandas as pd\n",
    "\n",
    "price_with_typhoon = pd.read_csv(\"../data/101_108_price_with_typhoon.csv\")"
   ]
  },
  {
   "cell_type": "markdown",
   "metadata": {},
   "source": [
    "## Target market : 台北一\n",
    "## Target crops :\n",
    "**['鳳梨-金鑽鳳梨', '香蕉', '青蔥-日蔥','蓮霧-紅蓮霧', '芽菜類-黃豆牙', '南瓜-木瓜形', '大蒜-蒜瓣', '小白菜-土白菜', '木瓜-網室紅肉', '洋香瓜-網狀紅肉']**"
   ]
  },
  {
   "cell_type": "code",
   "execution_count": 25,
   "metadata": {},
   "outputs": [],
   "source": [
    "target_crops = ['鳳梨-金鑽鳳梨', '香蕉', '青蔥-日蔥','蓮霧-紅蓮霧', '芽菜類-黃豆牙', '南瓜-木瓜形', '大蒜-蒜瓣', \\\n",
    "                '小白菜-土白菜', '木瓜-網室紅肉', '洋香瓜-網狀紅肉']\n",
    "crops_info_arr = []\n",
    "\n",
    "for crops in target_crops:\n",
    "    crops_info_arr.append(\n",
    "        price_with_typhoon.loc[\n",
    "            (price_with_typhoon['市場名稱'] == '台北一') & (price_with_typhoon['作物名稱'] == crops)\n",
    "        ]\n",
    "    )"
   ]
  },
  {
   "cell_type": "markdown",
   "metadata": {},
   "source": [
    "## Concat target crops info with weather info"
   ]
  },
  {
   "cell_type": "code",
   "execution_count": 26,
   "metadata": {},
   "outputs": [],
   "source": [
    "import glob\n",
    "\n",
    "path = \"../data/weather_data/*.csv\"\n",
    "weathers = glob.glob(path)\n",
    "\n",
    "weather_df_arr = [pd.read_csv(weather, header=0) for weather in weathers]\n",
    "\n",
    "weather_info = pd.concat(weather_df_arr, axis=0, ignore_index=True).sort_values(\n",
    "    by=[\"Year\", \"Month\", \"Day\"], ignore_index=True\n",
    ")\n",
    "\n",
    "weather_info[\"DateTime\"] = pd.to_datetime(\n",
    "    (weather_info.Year * 10000 + weather_info.Month * 100 + weather_info.Day).apply(\n",
    "        str\n",
    "    ),\n",
    "    format=\"%Y%m%d\",\n",
    ").astype(str)\n",
    "\n",
    "\n",
    "crops_info_arr = [\n",
    "    pd.merge(crops_info, weather_info, how=\"inner\", on=[\"DateTime\", \"Year\", \"Month\", \"Day\"])\n",
    "    for crops_info in crops_info_arr\n",
    "]"
   ]
  },
  {
   "cell_type": "markdown",
   "metadata": {},
   "source": [
    "### LabelEncoder\n",
    "- **column : 強度**\n",
    "\n",
    "### Handle missing value on weather column \n",
    "- **['X', 'T', '...', '/']**\n",
    "\n",
    "### Drop meaningless column"
   ]
  },
  {
   "cell_type": "code",
   "execution_count": 27,
   "metadata": {},
   "outputs": [
    {
     "name": "stderr",
     "output_type": "stream",
     "text": [
      "<ipython-input-27-3e05d1a61580>:27: SettingWithCopyWarning: \n",
      "A value is trying to be set on a copy of a slice from a DataFrame\n",
      "\n",
      "See the caveats in the documentation: https://pandas.pydata.org/pandas-docs/stable/user_guide/indexing.html#returning-a-view-versus-a-copy\n",
      "  crops_info[col][index] = '0'\n"
     ]
    }
   ],
   "source": [
    "from sklearn.preprocessing import LabelEncoder\n",
    "labelencoder = LabelEncoder()\n",
    "\n",
    "def process(crops_info):\n",
    "    crops_name = crops_info[\"作物名稱\"][0]\n",
    "    crops_info[\"強度\"] = crops_info[\"強度\"].astype(str)\n",
    "    crops_info[\"強度\"] = labelencoder.fit_transform(crops_info[\"強度\"])\n",
    "    crops_info = crops_info.fillna('0')\n",
    "\n",
    "    crops_info = crops_info.drop(\n",
    "        columns=[\n",
    "            \"入台時間\",\n",
    "            \"離台時間\",\n",
    "            \"作物代號\",\n",
    "            \"作物名稱\",\n",
    "            \"市場代號\",\n",
    "            \"市場名稱\",\n",
    "        ]\n",
    "    )\n",
    "    for col in list(crops_info.columns):\n",
    "        try:\n",
    "            crops_info[col] = crops_info[col].astype(float)\n",
    "        except:\n",
    "            pass\n",
    "            error = crops_info.loc[crops_info[col].isin(['X', 'T', '...', '/'])]\n",
    "            for index in list(error.index):\n",
    "                crops_info[col][index] = '0'\n",
    "    return crops_info, crops_name\n",
    "\n",
    "for crops_info in crops_info_arr:\n",
    "    df, name = process(crops_info)\n",
    "    df.to_csv('../data/{}.csv'.format(name), index = False, encoding='utf_8_sig')"
   ]
  },
  {
   "cell_type": "code",
   "execution_count": null,
   "metadata": {},
   "outputs": [],
   "source": []
  }
 ],
 "metadata": {
  "kernelspec": {
   "display_name": "Python 3.8",
   "language": "python",
   "name": "python3.8"
  },
  "language_info": {
   "codemirror_mode": {
    "name": "ipython",
    "version": 3
   },
   "file_extension": ".py",
   "mimetype": "text/x-python",
   "name": "python",
   "nbconvert_exporter": "python",
   "pygments_lexer": "ipython3",
   "version": "3.8.6"
  }
 },
 "nbformat": 4,
 "nbformat_minor": 4
}
