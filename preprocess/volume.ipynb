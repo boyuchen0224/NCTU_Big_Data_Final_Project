{
 "cells": [
  {
   "cell_type": "markdown",
   "metadata": {},
   "source": [
    "# Todo\n",
    "\n",
    "- [x] 把成交量整理成每週加總\n",
    "- [ ] 加總同縣市市場"
   ]
  },
  {
   "cell_type": "code",
   "execution_count": 2,
   "metadata": {},
   "outputs": [],
   "source": [
    "import pandas as pd"
   ]
  },
  {
   "cell_type": "markdown",
   "metadata": {},
   "source": [
    "# Load Data"
   ]
  },
  {
   "cell_type": "code",
   "execution_count": 3,
   "metadata": {},
   "outputs": [],
   "source": [
    "total_data = pd.read_csv('../price_with_typhoon_utf8.csv')\n",
    "total_data = total_data[['DateTime', '交易量', '市場名稱', '作物名稱']]"
   ]
  },
  {
   "cell_type": "code",
   "execution_count": 4,
   "metadata": {},
   "outputs": [],
   "source": [
    "USED_CROPS = ['鳳梨-金鑽鳳梨', '香蕉', '青蔥-日蔥', '蓮霧-紅蓮霧', '芽菜類-黃豆牙', '南瓜-木瓜形', '大蒜-蒜仁', '小白菜-土白菜', '木瓜-網室紅肉', '洋香瓜-網狀紅肉']\n",
    "total_data = total_data[total_data['作物名稱'].isin(USED_CROPS)]"
   ]
  },
  {
   "cell_type": "markdown",
   "metadata": {},
   "source": [
    "# Sum up the total volume week by week"
   ]
  },
  {
   "cell_type": "markdown",
   "metadata": {},
   "source": [
    "## Create weekly sequence"
   ]
  },
  {
   "cell_type": "code",
   "execution_count": 18,
   "metadata": {},
   "outputs": [],
   "source": [
    "date_points = []\n",
    "start_date = pd.to_datetime('2012-01-01') - pd.DateOffset(days=7)\n",
    "end_date = start_date\n",
    "\n",
    "while end_date < pd.to_datetime('2020-01-01'):\n",
    "  start_date = end_date\n",
    "  end_date = pd.to_datetime(start_date) + pd.DateOffset(days=7)\n",
    "  date_points.append((start_date, end_date))"
   ]
  },
  {
   "cell_type": "markdown",
   "metadata": {},
   "source": [
    "## Extract 7 days from the data"
   ]
  },
  {
   "cell_type": "code",
   "execution_count": 21,
   "metadata": {},
   "outputs": [],
   "source": [
    "START = 0\n",
    "END = 1\n",
    "\n",
    "def extract_period(df, start, end):\n",
    "  return df[(pd.to_datetime(df['DateTime']) >= start) & (pd.to_datetime(df['DateTime']) < end)]"
   ]
  },
  {
   "cell_type": "markdown",
   "metadata": {},
   "source": [
    "## Group by crop & market and sum up the volume"
   ]
  },
  {
   "cell_type": "code",
   "execution_count": 53,
   "metadata": {},
   "outputs": [],
   "source": [
    "def sum_up_week(df, start, end):\n",
    "  summary = {'作物名稱': [], '市場名稱': [], '交易量': [], 'DateTime': [], 'Period': []}\n",
    "  week_data = extract_period(df, start, end)\n",
    "  week_sum = week_data.groupby(by=['作物名稱','市場名稱']).sum()\n",
    "  \n",
    "  for name, row in week_sum.iterrows():\n",
    "    summary['作物名稱'].append(name[0])\n",
    "    summary['市場名稱'].append(name[1])\n",
    "    summary['交易量'].append(row.values[0])\n",
    "    summary['DateTime'].append(str(start.date()))\n",
    "    summary['Period'].append(str(start.date())+'~'+str(end.date()))\n",
    "  \n",
    "  return pd.DataFrame.from_dict(summary)"
   ]
  },
  {
   "cell_type": "code",
   "execution_count": 56,
   "metadata": {},
   "outputs": [],
   "source": [
    "total_weeks = []\n",
    "\n",
    "for d in date_points:\n",
    "  total_weeks.append(sum_up_week(total_data, d[START], d[END]))"
   ]
  },
  {
   "cell_type": "code",
   "execution_count": 66,
   "metadata": {},
   "outputs": [],
   "source": [
    "week_volume = pd.concat(total_weeks)\n",
    "# pd.concat(total_weeks).to_csv('volume_per_week.csv', index=False)"
   ]
  },
  {
   "cell_type": "markdown",
   "metadata": {},
   "source": [
    "## Save csv files by crop"
   ]
  },
  {
   "cell_type": "code",
   "execution_count": 72,
   "metadata": {},
   "outputs": [],
   "source": [
    "# group by crop\n",
    "group_volume = week_volume.groupby('作物名稱')\n",
    "for name, group in group_volume:\n",
    "  group.to_csv(f'週成交量_{name}.csv', index=False)"
   ]
  },
  {
   "cell_type": "markdown",
   "metadata": {},
   "source": [
    "# Prepare the data for map plot"
   ]
  },
  {
   "cell_type": "markdown",
   "metadata": {},
   "source": [
    "* 值 = 當日成交量\n",
    "```\n",
    "DateTime, \"臺北市\", \"嘉義市\", \"新竹市\", \"基隆市\" ...\n",
    "```"
   ]
  },
  {
   "cell_type": "code",
   "execution_count": 7,
   "metadata": {},
   "outputs": [],
   "source": [
    "# DateTime, \"臺北市\", \"嘉義市\", \"新竹市\", \"基隆市\", \"新北市\", \"桃園市\", \"臺中市\", \"彰化縣\", \"高雄市\", \"臺南市\", \"金門縣\", \"澎湖縣\", \"雲林縣\", \"連江縣\", \"新竹縣\", \"苗栗縣\", \"屏東縣\", \"嘉義縣\", \"宜蘭縣\", \"南投縣\", \"花蓮縣\", \"臺東縣\"\n",
    "CITY = [\"臺北市\", \"嘉義市\", \"新竹市\", \"基隆市\", \"新北市\", \"桃園市\", \"臺中市\", \"彰化縣\", \"高雄市\", \"臺南市\", \"金門縣\", \"澎湖縣\", \"雲林縣\", \"連江縣\", \"新竹縣\", \"苗栗縣\", \"屏東縣\", \"嘉義縣\", \"宜蘭縣\", \"南投縣\", \"花蓮縣\", \"臺東縣\"]\n",
    "market_to_city = {\n",
    " '三重區': '新竹市',\n",
    " '南投市': '南投縣',\n",
    " '台中市': '臺中市',\n",
    " '台北一': '臺北市',\n",
    " '台北二': '臺北市',\n",
    " '台東市': '臺東縣',\n",
    " '嘉義市': '嘉義市',\n",
    " '宜蘭市': '宜蘭縣',\n",
    " '屏東市': '屏東縣',\n",
    " '東勢鎮': '臺中市',\n",
    " '板橋區': '新北市',\n",
    " '桃農'  : '桃園市',\n",
    " '永靖鄉': '彰化縣',\n",
    " '溪湖鎮': '彰化縣',\n",
    " '花蓮市': '花蓮縣',\n",
    " '西螺鎮': '雲林縣',\n",
    " '豐原區': '臺中市',\n",
    " '高雄市': '高雄市',\n",
    " '鳳山區': '高雄市'}"
   ]
  },
  {
   "cell_type": "code",
   "execution_count": 14,
   "metadata": {},
   "outputs": [],
   "source": [
    "def volumn_by_date(df):\n",
    "  summary = {'DateTime': []}\n",
    "  for c in CITY:\n",
    "    summary[c] = []\n",
    "  volume_data = {}\n",
    "  \n",
    "  for _, row in df.iterrows():\n",
    "    if row['DateTime'] not in volume_data:\n",
    "      volume_data[row['DateTime']] = {c:0 for c in CITY}\n",
    "    else:\n",
    "      volume_data[row['DateTime']][market_to_city[row['市場名稱']]] += row['交易量']\n",
    "  \n",
    "  for d in volume_data:\n",
    "    summary['DateTime'].append(d)\n",
    "    for c in volume_data[d]:\n",
    "      summary[c].append(volume_data[d][c])\n",
    "\n",
    "#   return volume_data\n",
    "  return pd.DataFrame.from_dict(summary)"
   ]
  },
  {
   "cell_type": "code",
   "execution_count": 17,
   "metadata": {},
   "outputs": [],
   "source": [
    "map_group_volume = total_data.groupby('作物名稱')\n",
    "for name, group in map_group_volume:\n",
    "  df = volumn_by_date(map_group_volume.get_group(name))\n",
    "  df.to_csv(f'市場成交量_{name}.csv', index=False)"
   ]
  }
 ],
 "metadata": {
  "kernelspec": {
   "display_name": "Python 3",
   "language": "python",
   "name": "python3"
  },
  "language_info": {
   "codemirror_mode": {
    "name": "ipython",
    "version": 3
   },
   "file_extension": ".py",
   "mimetype": "text/x-python",
   "name": "python",
   "nbconvert_exporter": "python",
   "pygments_lexer": "ipython3",
   "version": "3.6.9"
  }
 },
 "nbformat": 4,
 "nbformat_minor": 2
}
