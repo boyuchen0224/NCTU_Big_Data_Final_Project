{
 "cells": [
  {
   "cell_type": "code",
   "execution_count": 1,
   "metadata": {},
   "outputs": [],
   "source": [
    "import requests\n",
    "import json\n",
    "import pandas as pd\n",
    "import numpy as np\n",
    "from bs4 import BeautifulSoup\n",
    "from selenium import webdriver\n",
    "import time"
   ]
  },
  {
   "cell_type": "markdown",
   "metadata": {},
   "source": [
    "## Fruits and vegetables price info"
   ]
  },
  {
   "cell_type": "code",
   "execution_count": 46,
   "metadata": {},
   "outputs": [],
   "source": [
    "def get_price_info_df(start_year, end_year, crop = None):\n",
    "    \"\"\"\n",
    "    Return price info dataframe from start_year to end_year.\n",
    "    Max limit of data response : 9999.\n",
    "    Min limit of start date : 101.01.01\n",
    "    Query string : \n",
    "        StartDate : 101.01.01\n",
    "        EndDate : 101.01.01\n",
    "        Market : 三重\n",
    "        Crop= 椰子\n",
    "    \"\"\"\n",
    "    url = 'https://data.coa.gov.tw/Service/OpenData/FromM/FarmTransData.aspx?{}&{}'\n",
    "    if crop:\n",
    "        url = 'https://data.coa.gov.tw/Service/OpenData/FromM/FarmTransData.aspx?{}&{}&Crop=' + crop\n",
    "    df = pd.DataFrame()\n",
    "    for year in range (start_year, end_year + 1):\n",
    "        for month in range (1, 13):\n",
    "            month = '{:02d}'.format(month)\n",
    "            for day in range (1, 32):\n",
    "                day = '{:02d}'.format(day)\n",
    "\n",
    "                startDate = 'StartDate={}.{}.{}'.format(year, month, day)\n",
    "                endDate = 'EndDate={}.{}.{}'.format(year, month, day)\n",
    "                try:\n",
    "                    r = requests.get(url.format(startDate, endDate))\n",
    "                    if r.status_code == requests.codes.ok :\n",
    "                        obj = json.loads(r.text)\n",
    "                        df = pd.concat([df, pd.DataFrame(data = obj)], ignore_index = True)\n",
    "                except Exception as e:\n",
    "                    print('date : {}/{}/{} error.'.format(year, month, day), e)\n",
    "        print('year : {} completed.'.format(year))\n",
    "        \n",
    "    df.to_csv('{}_{}_{}_target_price_info.csv'.format(crop, start_year, end_year))\n",
    "    return df"
   ]
  },
  {
   "cell_type": "markdown",
   "metadata": {},
   "source": [
    "## Typhoon "
   ]
  },
  {
   "cell_type": "code",
   "execution_count": 40,
   "metadata": {},
   "outputs": [],
   "source": [
    "\"\"\"\n",
    "1958 ~ 2020 typhoon info\n",
    "\"\"\"\n",
    "url = 'https://rdc28.cwb.gov.tw/TDB/public/warning_typhoon_list/'\n",
    "driver = webdriver.Chrome(executable_path=r'/Users/chenboyu/Desktop/NCTU_Big_Data_Final_Project/utils/chromedriver')\n",
    "driver.get(url)\n",
    "\n",
    "time.sleep(3)\n",
    "\n",
    "pageSource = driver.page_source\n",
    "html = BeautifulSoup(pageSource, 'html.parser')\n",
    "typhoon_all = html.find_all('tr')\n",
    "\n",
    "info_title = ['年份', '颱風編號', '颱風名稱', 'Column 5', '侵臺路徑分類','警報期間', 'Column 8', '近臺強度', \n",
    "              '近臺最低氣壓(hPa)', '近臺最大風速(m/s)', '近臺7級風暴風半徑(km)', '近臺10級風暴風半徑(km)', '警報發布報數']\n",
    "\n",
    "typhoon_df = pd.DataFrame(columns = info_title)\n",
    "\n",
    "for typhoon in typhoon_all[1:-1]:\n",
    "    info = []\n",
    "    for typhoon_info in typhoon:\n",
    "        if index != 0 and len(typhoon_info.text) != 0:\n",
    "            info.append(typhoon_info.text)\n",
    "    typhoon_df = typhoon_df.append(dict(zip(info_title, info)), ignore_index = True)"
   ]
  },
  {
   "cell_type": "markdown",
   "metadata": {},
   "source": [
    "## Price return"
   ]
  },
  {
   "cell_type": "code",
   "execution_count": 257,
   "metadata": {},
   "outputs": [],
   "source": [
    "# df = pd.concat([df1, df2, df3, df4, df5, df6, df7, df8, df9, df10], ignore_index = True)\n",
    "# df = df.sort_values(['作物代號', '市場名稱', '交易日期'], ignore_index = True)\n",
    "df_typhoon = pd.read_csv('../data/101_108_typhoon_with_date.csv')\n",
    "df_price = pd.read_csv('../data/101_108_target_price_info.csv')"
   ]
  },
  {
   "cell_type": "code",
   "execution_count": 535,
   "metadata": {},
   "outputs": [],
   "source": [
    "# df_price.insert(8, \"1_day_return\", None)\n",
    "# df_price.insert(9, \"3_day_return\", None)\n",
    "# df_price.insert(10, \"5_day_return\", None)\n",
    "for n in np.unique(df_price['作物代號']):\n",
    "    for k in np.unique(df_price['市場代號']):\n",
    "        series = df_price[(df_price['作物代號'] == n) & (df_price['市場代號'] == k)]\n",
    "        if len(series) > 0:\n",
    "            df_price.insert(13, '{}_{}_1_day_return'.format(n, k), series['平均價'].pct_change(1))\n",
    "            df_price.insert(14, '{}_{}_3_day_return'.format(n, k), series['平均價'].pct_change(3))\n",
    "            df_price.insert(15, '{}_{}_5_day_return'.format(n, k), series['平均價'].pct_change(5))\n",
    "            df_price['1_day_return'].update(df_price.pop('{}_{}_1_day_return'.format(n, k)))\n",
    "            df_price['3_day_return'].update(df_price.pop('{}_{}_3_day_return'.format(n, k)))\n",
    "            df_price['5_day_return'].update(df_price.pop('{}_{}_5_day_return'.format(n, k)))"
   ]
  },
  {
   "cell_type": "markdown",
   "metadata": {},
   "source": [
    "## Concat with typhoon"
   ]
  },
  {
   "cell_type": "code",
   "execution_count": 537,
   "metadata": {},
   "outputs": [],
   "source": [
    "for i in range(len(df_typhoon)):\n",
    "    typhoon_series = (df_price['DateTime'] >= df_typhoon['Start'][i]) & (df_price['DateTime'] <= df_typhoon['End'][i])\n",
    "    for j in typhoon_series[typhoon_series].index:\n",
    "        df_price['入台時間'][j] = df_typhoon['Start'][i]\n",
    "        df_price['離台時間'][j] = df_typhoon['End'][i]\n",
    "        df_price['強度'][j] = df_typhoon['近臺強度'][i]\n",
    "        df_price['警報發布報數'][j] = df_typhoon['警報發布報數'][i]"
   ]
  },
  {
   "cell_type": "code",
   "execution_count": 554,
   "metadata": {},
   "outputs": [],
   "source": [
    "df_price.to_csv('../data/101_108_price_with_typhoon.csv', index = False)\n",
    "df_price.to_csv('../data/101_108_price_with_typhoon_utf8.csv', index = False, encoding='utf-8')"
   ]
  },
  {
   "cell_type": "code",
   "execution_count": null,
   "metadata": {},
   "outputs": [],
   "source": []
  }
 ],
 "metadata": {
  "kernelspec": {
   "display_name": "Python 3.8",
   "language": "python",
   "name": "python3.8"
  },
  "language_info": {
   "codemirror_mode": {
    "name": "ipython",
    "version": 3
   },
   "file_extension": ".py",
   "mimetype": "text/x-python",
   "name": "python",
   "nbconvert_exporter": "python",
   "pygments_lexer": "ipython3",
   "version": "3.8.6"
  }
 },
 "nbformat": 4,
 "nbformat_minor": 4
}
