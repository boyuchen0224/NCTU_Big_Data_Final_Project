{
 "cells": [
  {
   "cell_type": "markdown",
   "metadata": {},
   "source": [
    "# Todo\n",
    "## Evaluate the prediction\n",
    "- [x] Join the ground truth data\n",
    "- [x] Calculate the error/difference\n",
    "- [x] Plot line charts with the ground truth"
   ]
  },
  {
   "cell_type": "markdown",
   "metadata": {},
   "source": [
    "# Dependency"
   ]
  },
  {
   "cell_type": "code",
   "execution_count": 2,
   "metadata": {},
   "outputs": [],
   "source": [
    "import pandas as pd"
   ]
  },
  {
   "cell_type": "markdown",
   "metadata": {},
   "source": [
    "# Load Data\n",
    "## Load predict data"
   ]
  },
  {
   "cell_type": "code",
   "execution_count": 38,
   "metadata": {},
   "outputs": [],
   "source": [
    "predict = pd.read_csv('result/predict/南瓜-木瓜形_平均價_pred_week.csv')\n",
    "# remove 2020\n",
    "predict = predict[(predict['ds'] < '2020-01-01')]\n",
    "predict = predict[['ds', 'yhat']]\n",
    "predict = predict.rename(columns={'ds': 'DateTime', 'yhat': 'predict'})\n",
    "predict['DateTime'] = pd.to_datetime(predict['DateTime'])"
   ]
  },
  {
   "cell_type": "markdown",
   "metadata": {},
   "source": [
    "## Load the ground truth"
   ]
  },
  {
   "cell_type": "code",
   "execution_count": 10,
   "metadata": {
    "scrolled": true
   },
   "outputs": [],
   "source": [
    "USED_CROPS = ['鳳梨-金鑽鳳梨', '香蕉', '青蔥-日蔥', '蓮霧-紅蓮霧', '芽菜類-黃豆牙', '南瓜-木瓜形', '大蒜-蒜仁', '小白菜-土白菜', '木瓜-網室紅肉', '洋香瓜-網狀紅肉']\n",
    "\n",
    "gt_df = pd.read_csv('data/test.csv')\n",
    "gt_df = gt_df.loc[gt_df['市場名稱'] == '台北一']\n",
    "gt_df = gt_df[gt_df['作物名稱'].isin(USED_CROPS)]"
   ]
  },
  {
   "cell_type": "markdown",
   "metadata": {},
   "source": [
    "## Select the specific crop"
   ]
  },
  {
   "cell_type": "code",
   "execution_count": 11,
   "metadata": {},
   "outputs": [],
   "source": [
    "group_gt = gt_df.groupby(gt_df.作物名稱)"
   ]
  },
  {
   "cell_type": "code",
   "execution_count": 16,
   "metadata": {},
   "outputs": [],
   "source": [
    "pumpkin = group_gt.get_group('南瓜-木瓜形')\n",
    "pumpkin = pumpkin[['平均價', 'DateTime']]\n",
    "pumpkin['DateTime'] = pd.to_datetime(pumpkin['DateTime'])"
   ]
  },
  {
   "cell_type": "markdown",
   "metadata": {},
   "source": [
    "# Join the ground-truth & prediction"
   ]
  },
  {
   "cell_type": "code",
   "execution_count": 39,
   "metadata": {},
   "outputs": [],
   "source": [
    "# pumpkin.join(predict, (pumpkin['DateTime'] == predict['ds']), 'inner')\n",
    "result = pumpkin.merge(predict, on='DateTime')"
   ]
  },
  {
   "cell_type": "code",
   "execution_count": 49,
   "metadata": {},
   "outputs": [],
   "source": [
    "result['diff'] = result.apply(lambda row: abs(row['平均價'] - row['predict']), axis=1)"
   ]
  },
  {
   "cell_type": "code",
   "execution_count": 50,
   "metadata": {},
   "outputs": [
    {
     "data": {
      "text/html": [
       "<div>\n",
       "<style scoped>\n",
       "    .dataframe tbody tr th:only-of-type {\n",
       "        vertical-align: middle;\n",
       "    }\n",
       "\n",
       "    .dataframe tbody tr th {\n",
       "        vertical-align: top;\n",
       "    }\n",
       "\n",
       "    .dataframe thead th {\n",
       "        text-align: right;\n",
       "    }\n",
       "</style>\n",
       "<table border=\"1\" class=\"dataframe\">\n",
       "  <thead>\n",
       "    <tr style=\"text-align: right;\">\n",
       "      <th></th>\n",
       "      <th>平均價</th>\n",
       "      <th>DateTime</th>\n",
       "      <th>predict</th>\n",
       "      <th>diff</th>\n",
       "    </tr>\n",
       "  </thead>\n",
       "  <tbody>\n",
       "    <tr>\n",
       "      <th>0</th>\n",
       "      <td>10.9</td>\n",
       "      <td>2019-01-01</td>\n",
       "      <td>12.404611</td>\n",
       "      <td>1.504611</td>\n",
       "    </tr>\n",
       "    <tr>\n",
       "      <th>1</th>\n",
       "      <td>11.6</td>\n",
       "      <td>2019-01-02</td>\n",
       "      <td>12.628421</td>\n",
       "      <td>1.028421</td>\n",
       "    </tr>\n",
       "    <tr>\n",
       "      <th>2</th>\n",
       "      <td>10.2</td>\n",
       "      <td>2019-01-03</td>\n",
       "      <td>12.578319</td>\n",
       "      <td>2.378319</td>\n",
       "    </tr>\n",
       "    <tr>\n",
       "      <th>3</th>\n",
       "      <td>10.2</td>\n",
       "      <td>2019-01-04</td>\n",
       "      <td>12.230798</td>\n",
       "      <td>2.030798</td>\n",
       "    </tr>\n",
       "    <tr>\n",
       "      <th>4</th>\n",
       "      <td>8.9</td>\n",
       "      <td>2019-01-05</td>\n",
       "      <td>11.510293</td>\n",
       "      <td>2.610293</td>\n",
       "    </tr>\n",
       "    <tr>\n",
       "      <th>...</th>\n",
       "      <td>...</td>\n",
       "      <td>...</td>\n",
       "      <td>...</td>\n",
       "      <td>...</td>\n",
       "    </tr>\n",
       "    <tr>\n",
       "      <th>291</th>\n",
       "      <td>15.2</td>\n",
       "      <td>2019-12-26</td>\n",
       "      <td>12.724542</td>\n",
       "      <td>2.475458</td>\n",
       "    </tr>\n",
       "    <tr>\n",
       "      <th>292</th>\n",
       "      <td>14.8</td>\n",
       "      <td>2019-12-27</td>\n",
       "      <td>12.231578</td>\n",
       "      <td>2.568422</td>\n",
       "    </tr>\n",
       "    <tr>\n",
       "      <th>293</th>\n",
       "      <td>13.7</td>\n",
       "      <td>2019-12-28</td>\n",
       "      <td>11.350184</td>\n",
       "      <td>2.349816</td>\n",
       "    </tr>\n",
       "    <tr>\n",
       "      <th>294</th>\n",
       "      <td>14.0</td>\n",
       "      <td>2019-12-29</td>\n",
       "      <td>10.823294</td>\n",
       "      <td>3.176706</td>\n",
       "    </tr>\n",
       "    <tr>\n",
       "      <th>295</th>\n",
       "      <td>15.0</td>\n",
       "      <td>2019-12-31</td>\n",
       "      <td>11.377568</td>\n",
       "      <td>3.622432</td>\n",
       "    </tr>\n",
       "  </tbody>\n",
       "</table>\n",
       "<p>296 rows × 4 columns</p>\n",
       "</div>"
      ],
      "text/plain": [
       "      平均價   DateTime    predict      diff\n",
       "0    10.9 2019-01-01  12.404611  1.504611\n",
       "1    11.6 2019-01-02  12.628421  1.028421\n",
       "2    10.2 2019-01-03  12.578319  2.378319\n",
       "3    10.2 2019-01-04  12.230798  2.030798\n",
       "4     8.9 2019-01-05  11.510293  2.610293\n",
       "..    ...        ...        ...       ...\n",
       "291  15.2 2019-12-26  12.724542  2.475458\n",
       "292  14.8 2019-12-27  12.231578  2.568422\n",
       "293  13.7 2019-12-28  11.350184  2.349816\n",
       "294  14.0 2019-12-29  10.823294  3.176706\n",
       "295  15.0 2019-12-31  11.377568  3.622432\n",
       "\n",
       "[296 rows x 4 columns]"
      ]
     },
     "execution_count": 50,
     "metadata": {},
     "output_type": "execute_result"
    }
   ],
   "source": [
    "result"
   ]
  },
  {
   "cell_type": "markdown",
   "metadata": {},
   "source": [
    "# Plot the comparison"
   ]
  },
  {
   "cell_type": "code",
   "execution_count": 47,
   "metadata": {
    "scrolled": true
   },
   "outputs": [
    {
     "data": {
      "text/html": [
       "<div>\n",
       "<style scoped>\n",
       "    .dataframe tbody tr th:only-of-type {\n",
       "        vertical-align: middle;\n",
       "    }\n",
       "\n",
       "    .dataframe tbody tr th {\n",
       "        vertical-align: top;\n",
       "    }\n",
       "\n",
       "    .dataframe thead th {\n",
       "        text-align: right;\n",
       "    }\n",
       "</style>\n",
       "<table border=\"1\" class=\"dataframe\">\n",
       "  <thead>\n",
       "    <tr style=\"text-align: right;\">\n",
       "      <th></th>\n",
       "      <th>DateTime</th>\n",
       "      <th>predict</th>\n",
       "    </tr>\n",
       "  </thead>\n",
       "  <tbody>\n",
       "    <tr>\n",
       "      <th>0</th>\n",
       "      <td>2019-01-01</td>\n",
       "      <td>12.404611</td>\n",
       "    </tr>\n",
       "    <tr>\n",
       "      <th>1</th>\n",
       "      <td>2019-01-02</td>\n",
       "      <td>12.628421</td>\n",
       "    </tr>\n",
       "    <tr>\n",
       "      <th>2</th>\n",
       "      <td>2019-01-03</td>\n",
       "      <td>12.578319</td>\n",
       "    </tr>\n",
       "    <tr>\n",
       "      <th>3</th>\n",
       "      <td>2019-01-04</td>\n",
       "      <td>12.230798</td>\n",
       "    </tr>\n",
       "    <tr>\n",
       "      <th>4</th>\n",
       "      <td>2019-01-05</td>\n",
       "      <td>11.510293</td>\n",
       "    </tr>\n",
       "    <tr>\n",
       "      <th>...</th>\n",
       "      <td>...</td>\n",
       "      <td>...</td>\n",
       "    </tr>\n",
       "    <tr>\n",
       "      <th>309</th>\n",
       "      <td>2019-12-26</td>\n",
       "      <td>12.724542</td>\n",
       "    </tr>\n",
       "    <tr>\n",
       "      <th>310</th>\n",
       "      <td>2019-12-27</td>\n",
       "      <td>12.231578</td>\n",
       "    </tr>\n",
       "    <tr>\n",
       "      <th>311</th>\n",
       "      <td>2019-12-28</td>\n",
       "      <td>11.350184</td>\n",
       "    </tr>\n",
       "    <tr>\n",
       "      <th>312</th>\n",
       "      <td>2019-12-29</td>\n",
       "      <td>10.823294</td>\n",
       "    </tr>\n",
       "    <tr>\n",
       "      <th>313</th>\n",
       "      <td>2019-12-31</td>\n",
       "      <td>11.377568</td>\n",
       "    </tr>\n",
       "  </tbody>\n",
       "</table>\n",
       "<p>314 rows × 2 columns</p>\n",
       "</div>"
      ],
      "text/plain": [
       "      DateTime    predict\n",
       "0   2019-01-01  12.404611\n",
       "1   2019-01-02  12.628421\n",
       "2   2019-01-03  12.578319\n",
       "3   2019-01-04  12.230798\n",
       "4   2019-01-05  11.510293\n",
       "..         ...        ...\n",
       "309 2019-12-26  12.724542\n",
       "310 2019-12-27  12.231578\n",
       "311 2019-12-28  11.350184\n",
       "312 2019-12-29  10.823294\n",
       "313 2019-12-31  11.377568\n",
       "\n",
       "[314 rows x 2 columns]"
      ]
     },
     "execution_count": 47,
     "metadata": {},
     "output_type": "execute_result"
    }
   ],
   "source": [
    "predict"
   ]
  },
  {
   "cell_type": "code",
   "execution_count": 46,
   "metadata": {},
   "outputs": [
    {
     "data": {
      "image/svg+xml": [
       "<svg class=\"main-svg\" xmlns=\"http://www.w3.org/2000/svg\" xmlns:xlink=\"http://www.w3.org/1999/xlink\" width=\"700\" height=\"450\" style=\"\" viewBox=\"0 0 700 450\"><rect x=\"0\" y=\"0\" width=\"700\" height=\"450\" style=\"fill: rgb(255, 255, 255); fill-opacity: 1;\"/><defs id=\"defs-e89c6b\"><g class=\"clips\"><clipPath id=\"clipe89c6bxyplot\" class=\"plotclip\"><rect width=\"517\" height=\"270\"/></clipPath><clipPath class=\"axesclip\" id=\"clipe89c6bx\"><rect x=\"80\" y=\"0\" width=\"517\" height=\"450\"/></clipPath><clipPath class=\"axesclip\" id=\"clipe89c6by\"><rect x=\"0\" y=\"100\" width=\"700\" height=\"270\"/></clipPath><clipPath class=\"axesclip\" id=\"clipe89c6bxy\"><rect x=\"80\" y=\"100\" width=\"517\" height=\"270\"/></clipPath></g><g class=\"gradients\"/></defs><g class=\"bglayer\"><rect class=\"bg\" x=\"80\" y=\"100\" width=\"517\" height=\"270\" style=\"fill: rgb(229, 236, 246); fill-opacity: 1; stroke-width: 0;\"/></g><g class=\"layer-below\"><g class=\"imagelayer\"/><g class=\"shapelayer\"/></g><g class=\"cartesianlayer\"><g class=\"subplot xy\"><g class=\"layer-subplot\"><g class=\"shapelayer\"/><g class=\"imagelayer\"/></g><g class=\"gridlayer\"><g class=\"x\"><path class=\"xgrid crisp\" transform=\"translate(163.8,0)\" d=\"M0,100v270\" style=\"stroke: rgb(255, 255, 255); stroke-opacity: 1; stroke-width: 1px;\"/><path class=\"xgrid crisp\" transform=\"translate(250.44,0)\" d=\"M0,100v270\" style=\"stroke: rgb(255, 255, 255); stroke-opacity: 1; stroke-width: 1px;\"/><path class=\"xgrid crisp\" transform=\"translate(337.08,0)\" d=\"M0,100v270\" style=\"stroke: rgb(255, 255, 255); stroke-opacity: 1; stroke-width: 1px;\"/><path class=\"xgrid crisp\" transform=\"translate(425.14,0)\" d=\"M0,100v270\" style=\"stroke: rgb(255, 255, 255); stroke-opacity: 1; stroke-width: 1px;\"/><path class=\"xgrid crisp\" transform=\"translate(511.78,0)\" d=\"M0,100v270\" style=\"stroke: rgb(255, 255, 255); stroke-opacity: 1; stroke-width: 1px;\"/></g><g class=\"y\"><path class=\"ygrid crisp\" transform=\"translate(0,331.86)\" d=\"M80,0h517\" style=\"stroke: rgb(255, 255, 255); stroke-opacity: 1; stroke-width: 1px;\"/><path class=\"ygrid crisp\" transform=\"translate(0,289.38)\" d=\"M80,0h517\" style=\"stroke: rgb(255, 255, 255); stroke-opacity: 1; stroke-width: 1px;\"/><path class=\"ygrid crisp\" transform=\"translate(0,246.9)\" d=\"M80,0h517\" style=\"stroke: rgb(255, 255, 255); stroke-opacity: 1; stroke-width: 1px;\"/><path class=\"ygrid crisp\" transform=\"translate(0,204.41)\" d=\"M80,0h517\" style=\"stroke: rgb(255, 255, 255); stroke-opacity: 1; stroke-width: 1px;\"/><path class=\"ygrid crisp\" transform=\"translate(0,161.93)\" d=\"M80,0h517\" style=\"stroke: rgb(255, 255, 255); stroke-opacity: 1; stroke-width: 1px;\"/><path class=\"ygrid crisp\" transform=\"translate(0,119.45)\" d=\"M80,0h517\" style=\"stroke: rgb(255, 255, 255); stroke-opacity: 1; stroke-width: 1px;\"/></g></g><g class=\"zerolinelayer\"/><path class=\"xlines-below\"/><path class=\"ylines-below\"/><g class=\"overlines-below\"/><g class=\"xaxislayer-below\"/><g class=\"yaxislayer-below\"/><g class=\"overaxes-below\"/><g class=\"plot\" transform=\"translate(80, 100)\" clip-path=\"url('#clipe89c6bxyplot')\"><g class=\"scatterlayer mlayer\"><g class=\"trace scatter traced01cf8\" style=\"stroke-miterlimit: 2; opacity: 1;\"><g class=\"fills\"/><g class=\"errorbars\"/><g class=\"lines\"><path class=\"js-line\" d=\"M0,224.21L1.42,218.27L2.84,230.16L4.26,230.16L5.68,241.21L9.94,237.81L11.36,238.66L12.78,239.51L14.2,248L17.04,238.66L19.88,236.11L21.3,231.86L22.73,244.6L25.57,240.36L26.99,236.11L29.83,241.21L31.25,237.81L32.67,226.76L34.09,233.56L36.93,248L39.77,248.85L41.19,240.36L42.61,242.91L44.03,245.45L45.45,254.8L46.87,253.1L56.81,235.26L58.23,223.36L59.65,197.87L65.34,240.36L66.76,237.81L68.18,232.71L69.6,253.95L73.86,244.6L75.28,256.5L82.38,234.41L83.8,245.45L85.22,236.96L86.64,237.81L89.48,225.91L90.9,225.91L92.32,239.51L93.74,236.11L95.16,225.06L96.58,222.51L99.42,218.27L100.84,212.32L102.26,203.82L103.68,203.82L105.1,202.12L106.52,216.57L109.37,220.81L110.79,219.97L112.21,220.81L113.63,214.87L115.05,216.57L116.47,214.87L119.31,214.02L120.73,208.92L122.15,215.72L123.57,191.08L126.41,205.52L129.25,205.52L130.67,204.67L132.09,219.97L136.35,196.17L139.19,204.67L140.61,207.22L142.03,214.87L146.29,224.21L149.13,225.06L150.55,223.36L151.98,213.17L153.4,225.91L154.82,214.87L156.24,207.22L159.08,203.82L160.5,204.67L161.92,201.27L163.34,217.42L164.76,222.51L166.18,231.86L169.02,223.36L170.44,229.31L171.86,213.17L173.28,203.82L174.7,207.22L176.12,212.32L178.96,212.32L180.38,202.12L181.8,201.27L184.64,199.57L186.06,208.92L188.9,213.17L190.32,211.47L193.16,210.62L194.59,219.12L196.01,221.66L198.85,214.87L200.27,207.22L201.69,209.77L203.11,204.67L204.53,210.62L205.95,213.17L208.79,211.47L210.21,213.17L211.63,221.66L213.05,208.92L214.47,222.51L215.89,227.61L218.73,215.72L220.15,218.27L221.57,223.36L222.99,216.57L224.41,228.46L228.67,221.66L230.09,208.07L231.51,204.67L232.93,191.93L234.35,203.82L238.62,207.22L240.04,197.02L241.46,211.47L242.88,195.33L244.3,213.17L245.72,212.32L248.56,208.92L252.82,163.89L254.24,161.34L255.66,164.74L258.5,137.55L259.92,141.8L261.34,134.15L262.76,153.69L264.18,152.84L265.6,145.2L268.44,140.95L271.28,83.17L272.7,77.22L274.12,118.01L275.54,101.86L278.38,120.56L279.8,52.58L281.23,66.18L282.65,68.73L285.49,104.41L288.33,134.15L289.75,91.67L291.17,84.87L292.59,80.62L294.01,96.77L295.43,98.47L298.27,104.41L299.69,63.63L301.11,66.18L302.53,72.13L303.95,70.43L305.37,66.18L308.21,82.32L309.63,82.32L311.05,62.78L312.47,61.93L313.89,44.94L315.31,70.43L318.15,34.74L319.57,48.34L320.99,13.5L325.26,30.49L328.1,33.04L330.94,64.48L332.36,67.03L333.78,97.62L335.2,101.86L338.04,93.37L339.46,94.22L340.88,101.86L342.3,116.31L343.72,119.71L345.14,115.46L349.4,72.13L350.82,80.62L352.24,85.72L353.66,115.46L355.08,89.97L357.92,84.02L359.34,94.22L360.76,89.12L362.18,109.51L363.6,150.29L367.87,108.66L369.29,104.41L370.71,100.16L372.13,70.43L373.55,98.47L377.81,90.82L379.23,45.79L380.65,66.18L382.07,66.18L383.49,70.43L384.91,67.88L387.75,46.64L389.17,14.35L390.59,37.29L392.01,66.18L393.43,115.46L394.85,101.01L397.69,89.97L399.11,94.22L400.53,101.86L401.95,106.11L403.37,125.65L404.79,141.8L407.63,122.26L409.05,150.29L411.9,145.2L414.74,167.29L417.58,158.79L419,153.69L420.42,151.99L421.84,158.79L423.26,173.23L424.68,176.63L427.52,163.89L428.94,151.14L430.36,163.89L433.2,180.03L434.62,185.13L437.46,184.28L438.88,190.23L440.3,191.08L441.72,185.98L443.14,197.02L444.56,197.87L448.82,189.38L451.66,191.08L453.09,195.33L454.51,197.02L457.35,198.72L458.77,201.27L460.19,196.17L461.61,208.07L463.03,206.37L464.45,219.12L467.29,201.27L468.71,209.77L470.13,211.47L471.55,201.27L472.97,200.42L474.39,208.07L477.23,211.47L478.65,200.42L480.07,184.28L481.49,189.38L482.91,171.53L484.33,166.44L487.17,169.84L488.59,150.29L490.01,145.2L491.43,153.69L492.85,155.39L494.27,164.74L497.12,176.63L498.54,165.59L499.96,169.84L501.38,169.84L502.8,184.28L504.22,180.88L507.06,181.73L508.48,184.28L511.32,191.08L512.74,200.42L514.16,197.87L517,189.38\" style=\"vector-effect: non-scaling-stroke; fill: none; stroke: rgb(99, 110, 250); stroke-opacity: 1; stroke-width: 2px; opacity: 1;\"/></g><g class=\"points\"/><g class=\"text\"/></g><g class=\"trace scatter traced702e0\" style=\"stroke-miterlimit: 2; opacity: 1;\"><g class=\"fills\"/><g class=\"errorbars\"/><g class=\"lines\"><path class=\"js-line\" d=\"M0,211.43L1.42,209.53L2.84,209.95L4.26,212.91L5.68,219.03L7.1,222.12L9.94,218.28L11.36,215.06L12.78,214.22L14.2,215.87L15.62,220.72L17.04,222.54L19.88,212.84L22.73,206.51L24.15,207.13L25.57,210.9L26.99,211.75L31.25,193.29L32.67,190.67L34.09,190.64L35.51,193.89L36.93,194.27L39.77,186.45L42.61,178.31L44.03,178.26L45.45,181.6L46.87,182.17L56.81,173.31L58.23,180.92L59.65,159.62L62.49,155.08L63.91,157L65.34,162.43L66.76,165.35L68.18,173.23L69.6,163.42L73.86,163.04L76.7,171.87L79.54,166.56L80.96,163.33L82.38,162.73L83.8,164.88L85.22,169.96L86.64,171.94L89.48,162.29L92.32,155.58L93.74,155.82L95.16,159.08L96.58,159.28L102.26,140.5L103.68,139.47L105.1,141.69L106.52,141.06L110.79,121.83L112.21,118.42L113.63,117.93L115.05,121L116.47,121.55L119.31,114.62L120.73,110.49L122.15,109.21L123.57,110.97L124.99,116.47L126.41,119.52L129.25,117.18L130.67,115.8L132.09,117.27L136.35,135.07L139.19,130.76L140.61,131.02L142.03,134.02L143.45,139.36L144.87,148.35L146.29,154.68L149.13,157.62L150.55,157.76L151.98,160.25L153.4,165.23L154.82,173.34L156.24,178.47L159.08,175.23L160.5,174.27L161.92,175.59L163.34,179.53L164.76,186.62L166.18,190.8L169.02,183.87L170.44,182.37L171.86,183.34L173.28,187.09L174.7,194.19L176.12,198.53L178.96,195.15L180.38,194.14L181.8,195.67L183.22,200.01L184.64,207.84L186.06,212.94L188.9,208.79L190.32,208.45L193.16,215.57L196.01,229.21L198.85,223.91L200.27,223.32L201.69,225.05L203.11,229.33L204.53,236.79L205.95,241.21L208.79,234.8L210.21,232.91L211.63,233.33L213.05,236.21L214.47,242.27L215.89,245.3L218.73,237.06L220.15,233.88L221.57,233.11L222.99,234.87L224.41,239.97L228.67,233.78L230.09,230.19L231.51,229.13L232.93,230.76L234.35,235.85L238.62,227.58L240.04,224.3L241.46,223.59L242.88,225.59L244.3,231.04L245.72,233.64L248.56,225.59L249.98,222.36L251.4,221.64L252.82,223.44L254.24,228.59L255.66,230.73L258.5,221.08L259.92,217.1L261.34,215.42L262.76,216.25L264.18,220.25L265.6,221.35L268.44,204.82L271.28,197.02L272.7,196.95L274.12,200.08L275.54,200.28L279.8,179.66L281.23,176.56L282.65,176.25L284.07,179.5L285.49,179.87L288.33,160.96L289.75,155.72L291.17,153.4L292.59,153.93L294.01,158.07L295.43,159.55L298.27,151.41L299.69,147.34L301.11,146.08L302.53,147.65L303.95,152.79L305.37,155.18L308.21,143.23L309.63,139.99L311.05,139.43L312.47,141.62L313.89,147.17L315.31,149.87L318.15,140.26L319.57,137.07L320.99,136.26L325.26,145.62L328.1,134.52L329.52,130.79L330.94,129.32L332.36,130.95L333.78,135.56L335.2,136.94L338.04,125.62L339.46,121.51L340.88,119.86L342.3,120.92L343.72,125.47L345.14,127.14L347.98,125.02L349.4,121.02L350.82,119.58L352.24,120.94L353.66,125.71L355.08,127.76L357.92,117.69L359.34,114.3L360.76,113.63L362.18,115.72L363.6,121.3L367.87,116.38L369.29,113.47L370.71,113.03L372.13,115.35L373.55,121.05L377.81,114.32L379.23,111.13L380.65,110.34L382.07,112.08L383.49,117.22L384.91,119.38L387.75,103.16L389.17,99.16L390.59,97.69L392.01,98.76L393.43,103.13L394.85,104.57L397.69,93.53L399.11,89.05L400.53,87.19L401.95,88.07L403.37,92.43L404.79,93.86L407.63,93.31L409.05,89.35L411.9,89.74L414.74,97.71L417.58,101.36L419,99.28L420.42,99.78L421.84,103.59L423.26,110.98L424.68,115.87L427.52,115.4L428.94,115.46L430.36,118.28L431.78,124.06L433.2,133.42L434.62,140.1L437.46,141.97L438.88,143.33L440.3,147.3L443.14,163.87L444.56,170.88L447.4,169.76L448.82,170.67L451.66,179.44L453.09,188.16L454.51,193.74L457.35,182.39L458.77,181.47L460.19,182.69L461.61,186.47L463.03,193.25L464.45,196.94L467.29,194.47L468.71,191.87L470.13,191.6L471.55,193.94L472.97,199.49L474.39,202.2L477.23,199.16L478.65,196.17L480.07,195.74L481.49,198.06L482.91,203.86L484.33,206.99L487.17,192.49L488.59,190.32L490.01,190.81L491.43,194.23L492.85,201.09L494.27,205.3L497.12,197.12L498.54,196.07L499.96,197.65L501.38,202.06L502.8,209.86L504.22,214.88L507.06,208L508.48,207.13L509.9,208.71L511.32,212.9L512.74,220.39L514.16,224.87L517,220.16\" style=\"vector-effect: non-scaling-stroke; fill: none; stroke: rgb(239, 85, 59); stroke-opacity: 1; stroke-width: 2px; opacity: 1;\"/></g><g class=\"points\"/><g class=\"text\"/></g></g></g><g class=\"overplot\"/><path class=\"xlines-above crisp\" d=\"M0,0\" style=\"fill: none;\"/><path class=\"ylines-above crisp\" d=\"M0,0\" style=\"fill: none;\"/><g class=\"overlines-above\"/><g class=\"xaxislayer-above\"><g class=\"xtick\"><text text-anchor=\"middle\" x=\"0\" y=\"383\" transform=\"translate(80,0)\" style=\"font-family: 'Open Sans', verdana, arial, sans-serif; font-size: 12px; fill: rgb(42, 63, 95); fill-opacity: 1; white-space: pre;\">Jan 2019</text></g><g class=\"xtick\"><text text-anchor=\"middle\" x=\"0\" y=\"383\" transform=\"translate(163.8,0)\" style=\"font-family: 'Open Sans', verdana, arial, sans-serif; font-size: 12px; fill: rgb(42, 63, 95); fill-opacity: 1; white-space: pre;\">Mar 2019</text></g><g class=\"xtick\"><text text-anchor=\"middle\" x=\"0\" y=\"383\" transform=\"translate(250.44,0)\" style=\"font-family: 'Open Sans', verdana, arial, sans-serif; font-size: 12px; fill: rgb(42, 63, 95); fill-opacity: 1; white-space: pre;\">May 2019</text></g><g class=\"xtick\"><text text-anchor=\"middle\" x=\"0\" y=\"383\" transform=\"translate(337.08,0)\" style=\"font-family: 'Open Sans', verdana, arial, sans-serif; font-size: 12px; fill: rgb(42, 63, 95); fill-opacity: 1; white-space: pre;\">Jul 2019</text></g><g class=\"xtick\"><text text-anchor=\"middle\" x=\"0\" y=\"383\" transform=\"translate(425.14,0)\" style=\"font-family: 'Open Sans', verdana, arial, sans-serif; font-size: 12px; fill: rgb(42, 63, 95); fill-opacity: 1; white-space: pre;\">Sep 2019</text></g><g class=\"xtick\"><text text-anchor=\"middle\" x=\"0\" y=\"383\" transform=\"translate(511.78,0)\" style=\"font-family: 'Open Sans', verdana, arial, sans-serif; font-size: 12px; fill: rgb(42, 63, 95); fill-opacity: 1; white-space: pre;\">Nov 2019</text></g></g><g class=\"yaxislayer-above\"><g class=\"ytick\"><text text-anchor=\"end\" x=\"79\" y=\"4.199999999999999\" transform=\"translate(0,331.86)\" style=\"font-family: 'Open Sans', verdana, arial, sans-serif; font-size: 12px; fill: rgb(42, 63, 95); fill-opacity: 1; white-space: pre;\">10</text></g><g class=\"ytick\"><text text-anchor=\"end\" x=\"79\" y=\"4.199999999999999\" transform=\"translate(0,289.38)\" style=\"font-family: 'Open Sans', verdana, arial, sans-serif; font-size: 12px; fill: rgb(42, 63, 95); fill-opacity: 1; white-space: pre;\">15</text></g><g class=\"ytick\"><text text-anchor=\"end\" x=\"79\" y=\"4.199999999999999\" transform=\"translate(0,246.9)\" style=\"font-family: 'Open Sans', verdana, arial, sans-serif; font-size: 12px; fill: rgb(42, 63, 95); fill-opacity: 1; white-space: pre;\">20</text></g><g class=\"ytick\"><text text-anchor=\"end\" x=\"79\" y=\"4.199999999999999\" transform=\"translate(0,204.41)\" style=\"font-family: 'Open Sans', verdana, arial, sans-serif; font-size: 12px; fill: rgb(42, 63, 95); fill-opacity: 1; white-space: pre;\">25</text></g><g class=\"ytick\"><text text-anchor=\"end\" x=\"79\" y=\"4.199999999999999\" transform=\"translate(0,161.93)\" style=\"font-family: 'Open Sans', verdana, arial, sans-serif; font-size: 12px; fill: rgb(42, 63, 95); fill-opacity: 1; white-space: pre;\">30</text></g><g class=\"ytick\"><text text-anchor=\"end\" x=\"79\" y=\"4.199999999999999\" transform=\"translate(0,119.45)\" style=\"font-family: 'Open Sans', verdana, arial, sans-serif; font-size: 12px; fill: rgb(42, 63, 95); fill-opacity: 1; white-space: pre;\">35</text></g></g><g class=\"overaxes-above\"/></g></g><g class=\"polarlayer\"/><g class=\"ternarylayer\"/><g class=\"geolayer\"/><g class=\"funnelarealayer\"/><g class=\"pielayer\"/><g class=\"treemaplayer\"/><g class=\"sunburstlayer\"/><g class=\"glimages\"/><defs id=\"topdefs-e89c6b\"><g class=\"clips\"/><clipPath id=\"legende89c6b\"><rect width=\"81\" height=\"48\" x=\"0\" y=\"0\"/></clipPath></defs><g class=\"layer-above\"><g class=\"imagelayer\"/><g class=\"shapelayer\"/></g><g class=\"infolayer\"><g class=\"legend\" pointer-events=\"all\" transform=\"translate(607.34, 100)\"><rect class=\"bg\" shape-rendering=\"crispEdges\" style=\"stroke: rgb(68, 68, 68); stroke-opacity: 1; fill: rgb(255, 255, 255); fill-opacity: 1; stroke-width: 0px;\" width=\"81\" height=\"48\" x=\"0\" y=\"0\"/><g class=\"scrollbox\" transform=\"translate(0, 0)\" clip-path=\"url('#legende89c6b')\"><g class=\"groups\"><g class=\"traces\" transform=\"translate(0, 14.5)\" style=\"opacity: 1;\"><text class=\"legendtext\" text-anchor=\"start\" x=\"40\" y=\"4.680000000000001\" style=\"font-family: 'Open Sans', verdana, arial, sans-serif; font-size: 12px; fill: rgb(42, 63, 95); fill-opacity: 1; white-space: pre;\">平均價</text><g class=\"layers\" style=\"opacity: 1;\"><g class=\"legendfill\"/><g class=\"legendlines\"><path class=\"js-line\" d=\"M5,0h30\" style=\"fill: none; stroke: rgb(99, 110, 250); stroke-opacity: 1; stroke-width: 2px;\"/></g><g class=\"legendsymbols\"><g class=\"legendpoints\"/></g></g><rect class=\"legendtoggle\" pointer-events=\"all\" x=\"0\" y=\"-9.5\" width=\"76\" height=\"19\" style=\"cursor: pointer; fill: rgb(0, 0, 0); fill-opacity: 0;\"/></g><g class=\"traces\" transform=\"translate(0, 33.5)\" style=\"opacity: 1;\"><text class=\"legendtext\" text-anchor=\"start\" x=\"40\" y=\"4.680000000000001\" style=\"font-family: 'Open Sans', verdana, arial, sans-serif; font-size: 12px; fill: rgb(42, 63, 95); fill-opacity: 1; white-space: pre;\">預測</text><g class=\"layers\" style=\"opacity: 1;\"><g class=\"legendfill\"/><g class=\"legendlines\"><path class=\"js-line\" d=\"M5,0h30\" style=\"fill: none; stroke: rgb(239, 85, 59); stroke-opacity: 1; stroke-width: 2px;\"/></g><g class=\"legendsymbols\"><g class=\"legendpoints\"/></g></g><rect class=\"legendtoggle\" pointer-events=\"all\" x=\"0\" y=\"-9.5\" width=\"76\" height=\"19\" style=\"cursor: pointer; fill: rgb(0, 0, 0); fill-opacity: 0;\"/></g></g></g><rect class=\"scrollbar\" rx=\"20\" ry=\"3\" width=\"0\" height=\"0\" style=\"fill: rgb(128, 139, 164); fill-opacity: 1;\" x=\"0\" y=\"0\"/></g><g class=\"g-gtitle\"/><g class=\"g-xtitle\"/><g class=\"g-ytitle\"/></g></svg>"
      ]
     },
     "metadata": {},
     "output_type": "display_data"
    }
   ],
   "source": [
    "import plotly.graph_objects as go\n",
    "\n",
    "# Create traces\n",
    "fig = go.Figure()\n",
    "fig.add_trace(go.Scatter(x=result['DateTime'], y=result['平均價'],\n",
    "                    mode='lines',\n",
    "                    name='平均價'))\n",
    "fig.add_trace(go.Scatter(x=result['DateTime'], y=result['predict'],\n",
    "                    mode='lines',\n",
    "                    name='預測'))\n",
    "\n",
    "fig.show()"
   ]
  },
  {
   "cell_type": "markdown",
   "metadata": {},
   "source": [
    "# Plot line charts with the ground truth"
   ]
  },
  {
   "cell_type": "code",
   "execution_count": 45,
   "metadata": {},
   "outputs": [],
   "source": [
    "import plotly.io as pio\n",
    "pio.renderers.default = 'svg'"
   ]
  },
  {
   "cell_type": "code",
   "execution_count": 73,
   "metadata": {},
   "outputs": [],
   "source": [
    "class Evaluator:\n",
    "  def __init__(self, ground_truth):\n",
    "    self.USED_CROPS = ['鳳梨-金鑽鳳梨', '香蕉', '青蔥-日蔥', '蓮霧-紅蓮霧', '芽菜類-黃豆牙', '南瓜-木瓜形', '大蒜-蒜仁', '小白菜-土白菜', '木瓜-網室紅肉', '洋香瓜-網狀紅肉']\n",
    "    self.gt = self.load_gt(ground_truth)\n",
    "\n",
    "  def load_gt(self, gt_file):\n",
    "    gt_df = pd.read_csv(gt_file)\n",
    "    gt_df = gt_df.loc[gt_df['市場名稱'] == '台北一']\n",
    "    gt_df = gt_df[gt_df['作物名稱'].isin(USED_CROPS)]\n",
    "    gt_df = gt_df.groupby(gt_df.作物名稱)\n",
    "    return gt_df\n",
    "    \n",
    "  def load_predict(self, pred_file, name, target):\n",
    "    predict = pd.read_csv(pred_file)\n",
    "    predict = predict[(predict['ds'] < '2020-01-01')] # remove 2020\n",
    "    predict = predict[['ds', 'yhat']]\n",
    "    predict = predict.rename(columns={'ds': 'DateTime', 'yhat': 'predict'})\n",
    "    predict['DateTime'] = pd.to_datetime(predict['DateTime'])\n",
    "    self.predict = predict\n",
    "    self.pred_class = name\n",
    "    self.target = target\n",
    "    \n",
    "  def join(self):\n",
    "    # select data of the predict class\n",
    "    gt = self.gt.get_group(self.pred_class)\n",
    "    gt = gt[[self.target, 'DateTime']]\n",
    "    gt['DateTime'] = pd.to_datetime(gt['DateTime'])\n",
    "    # join the ground-truth & prediction\n",
    "    self.result = gt.merge(self.predict, on='DateTime')\n",
    "    # calculate the difference\n",
    "    self.result['diff'] = self.result.apply(lambda row: abs(row[self.target] - row['predict']), axis=1)\n",
    "\n",
    "  def save(self, extra_tag=''):\n",
    "    self.result.to_csv(f'result/result/{self.pred_class}_{self.target}{extra_tag}.csv')\n",
    "    self.fig.write_image(f'result/result/{self.pred_class}_{self.target}{extra_tag}.png')\n",
    "    \n",
    "  def plot(self, y_title='', extra_tag=''):\n",
    "    # Create traces\n",
    "    fig = go.Figure()\n",
    "    fig.add_trace(go.Scatter(x=self.result['DateTime'], y=self.result[self.target],\n",
    "                        mode='lines',\n",
    "                        name=self.target))\n",
    "    fig.add_trace(go.Scatter(x=self.result['DateTime'], y=self.result['predict'],\n",
    "                        mode='lines',\n",
    "                        name='預測'))\n",
    "    fig.update_layout(\n",
    "      title = f'{self.pred_class} {self.target}預測{extra_tag} - 2019',\n",
    "      xaxis_title = \"Date\",\n",
    "      yaxis_title = y_title,\n",
    "    )\n",
    "\n",
    "    self.fig = fig\n",
    "    fig.show()"
   ]
  },
  {
   "cell_type": "code",
   "execution_count": 77,
   "metadata": {},
   "outputs": [
    {
     "data": {
      "image/svg+xml": [
       "<svg class=\"main-svg\" xmlns=\"http://www.w3.org/2000/svg\" xmlns:xlink=\"http://www.w3.org/1999/xlink\" width=\"700\" height=\"450\" style=\"\" viewBox=\"0 0 700 450\"><rect x=\"0\" y=\"0\" width=\"700\" height=\"450\" style=\"fill: rgb(255, 255, 255); fill-opacity: 1;\"/><defs id=\"defs-7a16ed\"><g class=\"clips\"><clipPath id=\"clip7a16edxyplot\" class=\"plotclip\"><rect width=\"517\" height=\"270\"/></clipPath><clipPath class=\"axesclip\" id=\"clip7a16edx\"><rect x=\"80\" y=\"0\" width=\"517\" height=\"450\"/></clipPath><clipPath class=\"axesclip\" id=\"clip7a16edy\"><rect x=\"0\" y=\"100\" width=\"700\" height=\"270\"/></clipPath><clipPath class=\"axesclip\" id=\"clip7a16edxy\"><rect x=\"80\" y=\"100\" width=\"517\" height=\"270\"/></clipPath></g><g class=\"gradients\"/></defs><g class=\"bglayer\"><rect class=\"bg\" x=\"80\" y=\"100\" width=\"517\" height=\"270\" style=\"fill: rgb(229, 236, 246); fill-opacity: 1; stroke-width: 0;\"/></g><g class=\"layer-below\"><g class=\"imagelayer\"/><g class=\"shapelayer\"/></g><g class=\"cartesianlayer\"><g class=\"subplot xy\"><g class=\"layer-subplot\"><g class=\"shapelayer\"/><g class=\"imagelayer\"/></g><g class=\"gridlayer\"><g class=\"x\"><path class=\"xgrid crisp\" transform=\"translate(163.8,0)\" d=\"M0,100v270\" style=\"stroke: rgb(255, 255, 255); stroke-opacity: 1; stroke-width: 1px;\"/><path class=\"xgrid crisp\" transform=\"translate(250.44,0)\" d=\"M0,100v270\" style=\"stroke: rgb(255, 255, 255); stroke-opacity: 1; stroke-width: 1px;\"/><path class=\"xgrid crisp\" transform=\"translate(337.08,0)\" d=\"M0,100v270\" style=\"stroke: rgb(255, 255, 255); stroke-opacity: 1; stroke-width: 1px;\"/><path class=\"xgrid crisp\" transform=\"translate(425.14,0)\" d=\"M0,100v270\" style=\"stroke: rgb(255, 255, 255); stroke-opacity: 1; stroke-width: 1px;\"/><path class=\"xgrid crisp\" transform=\"translate(511.78,0)\" d=\"M0,100v270\" style=\"stroke: rgb(255, 255, 255); stroke-opacity: 1; stroke-width: 1px;\"/></g><g class=\"y\"><path class=\"ygrid crisp\" transform=\"translate(0,339.39)\" d=\"M80,0h517\" style=\"stroke: rgb(255, 255, 255); stroke-opacity: 1; stroke-width: 1px;\"/><path class=\"ygrid crisp\" transform=\"translate(0,302.6)\" d=\"M80,0h517\" style=\"stroke: rgb(255, 255, 255); stroke-opacity: 1; stroke-width: 1px;\"/><path class=\"ygrid crisp\" transform=\"translate(0,265.81)\" d=\"M80,0h517\" style=\"stroke: rgb(255, 255, 255); stroke-opacity: 1; stroke-width: 1px;\"/><path class=\"ygrid crisp\" transform=\"translate(0,229.02)\" d=\"M80,0h517\" style=\"stroke: rgb(255, 255, 255); stroke-opacity: 1; stroke-width: 1px;\"/><path class=\"ygrid crisp\" transform=\"translate(0,192.23000000000002)\" d=\"M80,0h517\" style=\"stroke: rgb(255, 255, 255); stroke-opacity: 1; stroke-width: 1px;\"/><path class=\"ygrid crisp\" transform=\"translate(0,155.44)\" d=\"M80,0h517\" style=\"stroke: rgb(255, 255, 255); stroke-opacity: 1; stroke-width: 1px;\"/><path class=\"ygrid crisp\" transform=\"translate(0,118.65)\" d=\"M80,0h517\" style=\"stroke: rgb(255, 255, 255); stroke-opacity: 1; stroke-width: 1px;\"/></g></g><g class=\"zerolinelayer\"/><path class=\"xlines-below\"/><path class=\"ylines-below\"/><g class=\"overlines-below\"/><g class=\"xaxislayer-below\"/><g class=\"yaxislayer-below\"/><g class=\"overaxes-below\"/><g class=\"plot\" transform=\"translate(80, 100)\" clip-path=\"url('#clip7a16edxyplot')\"><g class=\"scatterlayer mlayer\"><g class=\"trace scatter trace1dcb99\" style=\"stroke-miterlimit: 2; opacity: 1;\"><g class=\"fills\"/><g class=\"errorbars\"/><g class=\"lines\"><path class=\"js-line\" d=\"M0,195.98L1.42,190.83L2.84,201.13L4.26,201.13L5.68,210.69L9.94,207.75L11.36,208.49L12.78,209.22L14.2,216.58L17.04,208.49L19.88,206.28L21.3,202.6L22.73,213.64L25.57,209.96L26.99,206.28L29.83,210.69L31.25,207.75L32.67,198.19L34.09,204.07L36.93,216.58L39.77,217.32L41.19,209.96L42.61,212.17L44.03,214.37L45.45,222.47L46.87,221L56.81,205.54L58.23,195.24L59.65,173.17L65.34,209.96L66.76,207.75L68.18,203.34L69.6,221.73L73.86,213.64L75.28,223.94L82.38,204.81L83.8,214.37L85.22,207.02L86.64,207.75L89.48,197.45L90.9,197.45L92.32,209.22L93.74,206.28L95.16,196.71L96.58,194.51L99.42,190.83L100.84,185.68L102.26,178.32L103.68,178.32L105.1,176.85L106.52,189.36L109.37,193.04L110.79,192.3L112.21,193.04L113.63,187.88L115.05,189.36L116.47,187.88L119.31,187.15L120.73,182.73L122.15,188.62L123.57,167.28L126.41,179.79L129.25,179.79L130.67,179.06L132.09,192.3L136.35,171.7L139.19,179.06L140.61,181.26L142.03,187.88L146.29,195.98L149.13,196.71L150.55,195.24L151.98,186.41L153.4,197.45L154.82,187.88L156.24,181.26L159.08,178.32L160.5,179.06L161.92,176.11L163.34,190.09L164.76,194.51L166.18,202.6L169.02,195.24L170.44,200.39L171.86,186.41L173.28,178.32L174.7,181.26L176.12,185.68L178.96,185.68L180.38,176.85L181.8,176.11L184.64,174.64L186.06,182.73L188.9,186.41L190.32,184.94L193.16,184.21L194.59,191.56L196.01,193.77L198.85,187.88L200.27,181.26L201.69,183.47L203.11,179.06L204.53,184.21L205.95,186.41L208.79,184.94L210.21,186.41L211.63,193.77L213.05,182.73L214.47,194.51L215.89,198.92L218.73,188.62L220.15,190.83L221.57,195.24L222.99,189.36L224.41,199.66L228.67,193.77L230.09,182L231.51,179.06L232.93,168.02L234.35,178.32L238.62,181.26L240.04,172.43L241.46,184.94L242.88,170.96L244.3,186.41L245.72,185.68L248.56,182.73L252.82,143.74L254.24,141.53L255.66,144.47L258.5,120.93L259.92,124.61L261.34,117.98L262.76,134.91L264.18,134.17L265.6,127.55L268.44,123.87L271.28,73.84L272.7,68.69L274.12,104L275.54,90.02L278.38,106.21L279.8,47.35L281.23,59.12L282.65,61.33L285.49,92.23L288.33,117.98L289.75,81.19L291.17,75.31L292.59,71.63L294.01,85.61L295.43,87.08L298.27,92.23L299.69,56.91L301.11,59.12L302.53,64.27L303.95,62.8L305.37,59.12L308.21,73.1L309.63,73.1L311.05,56.18L312.47,55.44L313.89,40.72L315.31,62.8L318.15,31.9L319.57,43.67L320.99,13.5L325.26,28.22L328.1,30.42L330.94,57.65L332.36,59.86L333.78,86.34L335.2,90.02L338.04,82.67L339.46,83.4L340.88,90.02L342.3,102.53L343.72,105.48L345.14,101.8L349.4,64.27L350.82,71.63L352.24,76.04L353.66,101.8L355.08,79.72L357.92,74.57L359.34,83.4L360.76,78.99L362.18,96.65L363.6,131.96L367.87,95.91L369.29,92.23L370.71,88.55L372.13,62.8L373.55,87.08L377.81,80.46L379.23,41.46L380.65,59.12L382.07,59.12L383.49,62.8L384.91,60.59L387.75,42.2L389.17,14.24L390.59,34.1L392.01,59.12L393.43,101.8L394.85,89.29L397.69,79.72L399.11,83.4L400.53,90.02L401.95,93.7L403.37,110.63L404.79,124.61L407.63,107.68L409.05,131.96L411.9,127.55L414.74,146.68L417.58,139.32L419,134.91L420.42,133.44L421.84,139.32L423.26,151.83L424.68,154.77L427.52,143.74L428.94,132.7L430.36,143.74L433.2,157.72L434.62,162.13L437.46,161.4L438.88,166.55L440.3,167.28L441.72,162.87L443.14,172.43L444.56,173.17L448.82,165.81L451.66,167.28L453.09,170.96L454.51,172.43L457.35,173.9L458.77,176.11L460.19,171.7L461.61,182L463.03,180.53L464.45,191.56L467.29,176.11L468.71,183.47L470.13,184.94L471.55,176.11L472.97,175.38L474.39,182L477.23,184.94L478.65,175.38L480.07,161.4L481.49,165.81L482.91,150.36L484.33,145.94L487.17,148.89L488.59,131.96L490.01,127.55L491.43,134.91L492.85,136.38L494.27,144.47L497.12,154.77L498.54,145.21L499.96,148.89L501.38,148.89L502.8,161.4L504.22,158.45L507.06,159.19L508.48,161.4L511.32,167.28L512.74,175.38L514.16,173.17L517,165.81\" style=\"vector-effect: non-scaling-stroke; fill: none; stroke: rgb(99, 110, 250); stroke-opacity: 1; stroke-width: 2px; opacity: 1;\"/></g><g class=\"points\"/><g class=\"text\"/></g><g class=\"trace scatter tracef348c4\" style=\"stroke-miterlimit: 2; opacity: 1;\"><g class=\"fills\"/><g class=\"errorbars\"/><g class=\"lines\"><path class=\"js-line\" d=\"M0,184.91L1.42,183.26L2.84,183.63L4.26,186.19L5.68,191.49L7.1,194.17L9.94,190.84L11.36,188.05L12.78,187.33L14.2,188.76L15.62,192.95L17.04,194.53L19.88,189.03L22.73,183.52L24.15,184.03L25.57,187.3L26.99,188.02L31.25,171.72L32.67,169.39L34.09,169.29L35.51,172.01L36.93,172.25L39.77,164.71L42.61,157.45L44.03,157.32L45.45,160.09L46.87,160.47L56.81,160.63L58.23,165.79L59.65,151.84L62.49,147.39L63.91,148.89L65.34,153.39L66.76,155.7L68.18,162.94L69.6,151.77L73.86,151.13L76.7,158.82L79.54,157.88L80.96,154.87L82.38,154.33L83.8,156.13L85.22,160.47L86.64,162.24L89.48,157.6L92.32,151.25L93.74,151.58L95.16,154.35L96.58,154.57L99.42,147.43L100.84,141.76L102.26,138.53L103.68,137.75L105.1,139.58L106.52,139.07L112.21,122.3L113.63,122.07L115.05,124.71L116.47,125.31L119.31,123.89L120.73,120.04L122.15,118.98L123.57,120.78L126.41,128.46L129.25,127.5L130.67,125.96L132.09,127.19L136.35,142.82L139.19,146.82L140.61,146.73L142.03,149.24L143.45,154L144.87,161.68L146.29,167.13L149.13,168.62L150.55,168.47L151.98,170.68L153.4,174.98L154.82,182.06L156.24,186.78L159.08,185.29L160.5,184.27L161.92,185.58L163.34,189.07L164.76,195.31L166.18,199.27L169.02,198.71L170.44,197.39L171.86,198.53L173.28,201.96L174.7,208.23L176.12,212.37L178.96,210.01L180.38,209.2L181.8,210.87L183.22,214.92L184.64,221.88L186.06,226.72L188.9,223.88L190.32,223.69L193.16,230.44L196.01,242.84L198.85,236.35L200.27,235.93L201.69,237.9L203.11,241.8L204.53,248.46L205.95,252.78L208.79,245.68L210.21,244.21L211.63,245.09L213.05,247.84L214.47,253.34L215.89,256.5L218.73,247.37L220.15,244.86L221.57,244.8L222.99,246.65L224.41,251.39L230.09,240.26L231.51,239.98L232.93,241.66L234.35,246.37L240.04,235.5L241.46,235.47L242.88,237.37L244.3,242.35L245.72,245.24L248.56,234.24L249.98,231.59L251.4,231.55L252.82,233.26L254.24,238.02L255.66,240.53L258.5,229L259.92,225.7L261.34,224.91L262.76,225.83L264.18,229.75L265.6,231.37L268.44,214.48L269.86,210.29L271.28,208.63L272.7,208.76L274.12,211.89L275.54,212.78L278.38,195.1L279.8,190.49L281.23,188.57L282.65,188.62L284.07,191.89L285.49,192.94L288.33,170.69L289.75,166.45L291.17,165.18L292.59,165.97L294.01,170.08L295.43,172.05L298.27,158.33L299.69,154.91L301.11,154.53L302.53,156.21L303.95,161.2L305.37,163.96L308.21,152.25L309.63,149.32L311.05,149.47L312.47,151.53L313.89,156.78L315.31,159.73L318.15,145.85L319.57,142.82L320.99,142.73L325.26,152.01L328.1,141.18L329.52,137.73L330.94,137.06L332.36,138.72L333.78,143.14L335.2,144.98L338.04,128.53L339.46,124.8L340.88,123.85L342.3,125.27L343.72,129.61L345.14,131.41L347.98,121.52L349.4,117.87L350.82,117.06L352.24,118.69L353.66,123.24L355.08,125.3L357.92,115.13L359.34,111.83L360.76,111.46L362.18,113.51L363.6,118.55L367.87,115.09L369.29,112.11L370.71,111.98L372.13,114.25L373.55,119.45L377.81,110.69L379.23,107.45L380.65,106.95L382.07,108.74L383.49,113.53L384.91,115.43L387.75,103.44L389.17,99.54L390.59,98.52L392.01,99.71L393.43,103.94L394.85,105.31L397.69,93.44L399.11,89.16L400.53,87.92L401.95,89.03L403.37,93.35L404.79,94.79L407.63,87.3L409.05,83.45L411.9,84.58L414.74,92.19L417.58,90.9L419,88.44L420.42,89.11L421.84,92.53L423.26,99.32L424.68,103.43L427.52,103.92L428.94,103.13L430.36,105.41L431.78,110.41L433.2,118.73L434.62,124.26L437.46,126.27L438.88,126.5L440.3,129.69L443.14,144.21L444.56,150.05L447.4,153.59L448.82,153.55L451.66,161.26L453.09,169.21L454.51,173.99L457.35,171.65L458.77,170.21L460.19,171.43L461.61,174.94L463.03,181.34L464.45,184.57L467.29,179.86L468.71,177.05L470.13,176.97L471.55,179.32L472.97,184.66L474.39,187.02L477.23,179.74L478.65,176.56L480.07,176.26L481.49,178.53L482.91,183.97L484.33,186.62L487.17,182.06L488.59,179.61L490.01,180.12L491.43,183.31L492.85,189.69L494.27,193.35L497.12,183.94L498.54,182.47L499.96,183.93L501.38,188.1L502.8,195.35L504.22,199.8L507.06,194.96L508.48,193.89L509.9,195.63L511.32,199.91L512.74,207.15L514.16,211.42L517,207.69\" style=\"vector-effect: non-scaling-stroke; fill: none; stroke: rgb(239, 85, 59); stroke-opacity: 1; stroke-width: 2px; opacity: 1;\"/></g><g class=\"points\"/><g class=\"text\"/></g></g></g><g class=\"overplot\"/><path class=\"xlines-above crisp\" d=\"M0,0\" style=\"fill: none;\"/><path class=\"ylines-above crisp\" d=\"M0,0\" style=\"fill: none;\"/><g class=\"overlines-above\"/><g class=\"xaxislayer-above\"><g class=\"xtick\"><text text-anchor=\"middle\" x=\"0\" y=\"383\" transform=\"translate(80,0)\" style=\"font-family: 'Open Sans', verdana, arial, sans-serif; font-size: 12px; fill: rgb(42, 63, 95); fill-opacity: 1; white-space: pre;\">Jan 2019</text></g><g class=\"xtick\"><text text-anchor=\"middle\" x=\"0\" y=\"383\" transform=\"translate(163.8,0)\" style=\"font-family: 'Open Sans', verdana, arial, sans-serif; font-size: 12px; fill: rgb(42, 63, 95); fill-opacity: 1; white-space: pre;\">Mar 2019</text></g><g class=\"xtick\"><text text-anchor=\"middle\" x=\"0\" y=\"383\" transform=\"translate(250.44,0)\" style=\"font-family: 'Open Sans', verdana, arial, sans-serif; font-size: 12px; fill: rgb(42, 63, 95); fill-opacity: 1; white-space: pre;\">May 2019</text></g><g class=\"xtick\"><text text-anchor=\"middle\" x=\"0\" y=\"383\" transform=\"translate(337.08,0)\" style=\"font-family: 'Open Sans', verdana, arial, sans-serif; font-size: 12px; fill: rgb(42, 63, 95); fill-opacity: 1; white-space: pre;\">Jul 2019</text></g><g class=\"xtick\"><text text-anchor=\"middle\" x=\"0\" y=\"383\" transform=\"translate(425.14,0)\" style=\"font-family: 'Open Sans', verdana, arial, sans-serif; font-size: 12px; fill: rgb(42, 63, 95); fill-opacity: 1; white-space: pre;\">Sep 2019</text></g><g class=\"xtick\"><text text-anchor=\"middle\" x=\"0\" y=\"383\" transform=\"translate(511.78,0)\" style=\"font-family: 'Open Sans', verdana, arial, sans-serif; font-size: 12px; fill: rgb(42, 63, 95); fill-opacity: 1; white-space: pre;\">Nov 2019</text></g></g><g class=\"yaxislayer-above\"><g class=\"ytick\"><text text-anchor=\"end\" x=\"79\" y=\"4.199999999999999\" transform=\"translate(0,339.39)\" style=\"font-family: 'Open Sans', verdana, arial, sans-serif; font-size: 12px; fill: rgb(42, 63, 95); fill-opacity: 1; white-space: pre;\">5</text></g><g class=\"ytick\"><text text-anchor=\"end\" x=\"79\" y=\"4.199999999999999\" transform=\"translate(0,302.6)\" style=\"font-family: 'Open Sans', verdana, arial, sans-serif; font-size: 12px; fill: rgb(42, 63, 95); fill-opacity: 1; white-space: pre;\">10</text></g><g class=\"ytick\"><text text-anchor=\"end\" x=\"79\" y=\"4.199999999999999\" transform=\"translate(0,265.81)\" style=\"font-family: 'Open Sans', verdana, arial, sans-serif; font-size: 12px; fill: rgb(42, 63, 95); fill-opacity: 1; white-space: pre;\">15</text></g><g class=\"ytick\"><text text-anchor=\"end\" x=\"79\" y=\"4.199999999999999\" transform=\"translate(0,229.02)\" style=\"font-family: 'Open Sans', verdana, arial, sans-serif; font-size: 12px; fill: rgb(42, 63, 95); fill-opacity: 1; white-space: pre;\">20</text></g><g class=\"ytick\"><text text-anchor=\"end\" x=\"79\" y=\"4.199999999999999\" transform=\"translate(0,192.23000000000002)\" style=\"font-family: 'Open Sans', verdana, arial, sans-serif; font-size: 12px; fill: rgb(42, 63, 95); fill-opacity: 1; white-space: pre;\">25</text></g><g class=\"ytick\"><text text-anchor=\"end\" x=\"79\" y=\"4.199999999999999\" transform=\"translate(0,155.44)\" style=\"font-family: 'Open Sans', verdana, arial, sans-serif; font-size: 12px; fill: rgb(42, 63, 95); fill-opacity: 1; white-space: pre;\">30</text></g><g class=\"ytick\"><text text-anchor=\"end\" x=\"79\" y=\"4.199999999999999\" transform=\"translate(0,118.65)\" style=\"font-family: 'Open Sans', verdana, arial, sans-serif; font-size: 12px; fill: rgb(42, 63, 95); fill-opacity: 1; white-space: pre;\">35</text></g></g><g class=\"overaxes-above\"/></g></g><g class=\"polarlayer\"/><g class=\"ternarylayer\"/><g class=\"geolayer\"/><g class=\"funnelarealayer\"/><g class=\"pielayer\"/><g class=\"treemaplayer\"/><g class=\"sunburstlayer\"/><g class=\"glimages\"/><defs id=\"topdefs-7a16ed\"><g class=\"clips\"/><clipPath id=\"legend7a16ed\"><rect width=\"81\" height=\"48\" x=\"0\" y=\"0\"/></clipPath></defs><g class=\"layer-above\"><g class=\"imagelayer\"/><g class=\"shapelayer\"/></g><g class=\"infolayer\"><g class=\"legend\" pointer-events=\"all\" transform=\"translate(607.34, 100)\"><rect class=\"bg\" shape-rendering=\"crispEdges\" width=\"81\" height=\"48\" x=\"0\" y=\"0\" style=\"stroke: rgb(68, 68, 68); stroke-opacity: 1; fill: rgb(255, 255, 255); fill-opacity: 1; stroke-width: 0px;\"/><g class=\"scrollbox\" transform=\"translate(0, 0)\" clip-path=\"url('#legend7a16ed')\"><g class=\"groups\"><g class=\"traces\" transform=\"translate(0, 14.5)\" style=\"opacity: 1;\"><text class=\"legendtext\" text-anchor=\"start\" x=\"40\" y=\"4.680000000000001\" style=\"font-family: 'Open Sans', verdana, arial, sans-serif; font-size: 12px; fill: rgb(42, 63, 95); fill-opacity: 1; white-space: pre;\">平均價</text><g class=\"layers\" style=\"opacity: 1;\"><g class=\"legendfill\"/><g class=\"legendlines\"><path class=\"js-line\" d=\"M5,0h30\" style=\"fill: none; stroke: rgb(99, 110, 250); stroke-opacity: 1; stroke-width: 2px;\"/></g><g class=\"legendsymbols\"><g class=\"legendpoints\"/></g></g><rect class=\"legendtoggle\" pointer-events=\"all\" x=\"0\" y=\"-9.5\" width=\"76\" height=\"19\" style=\"cursor: pointer; fill: rgb(0, 0, 0); fill-opacity: 0;\"/></g><g class=\"traces\" transform=\"translate(0, 33.5)\" style=\"opacity: 1;\"><text class=\"legendtext\" text-anchor=\"start\" x=\"40\" y=\"4.680000000000001\" style=\"font-family: 'Open Sans', verdana, arial, sans-serif; font-size: 12px; fill: rgb(42, 63, 95); fill-opacity: 1; white-space: pre;\">預測</text><g class=\"layers\" style=\"opacity: 1;\"><g class=\"legendfill\"/><g class=\"legendlines\"><path class=\"js-line\" d=\"M5,0h30\" style=\"fill: none; stroke: rgb(239, 85, 59); stroke-opacity: 1; stroke-width: 2px;\"/></g><g class=\"legendsymbols\"><g class=\"legendpoints\"/></g></g><rect class=\"legendtoggle\" pointer-events=\"all\" x=\"0\" y=\"-9.5\" width=\"76\" height=\"19\" style=\"cursor: pointer; fill: rgb(0, 0, 0); fill-opacity: 0;\"/></g></g></g><rect class=\"scrollbar\" rx=\"20\" ry=\"3\" width=\"0\" height=\"0\" x=\"0\" y=\"0\" style=\"fill: rgb(128, 139, 164); fill-opacity: 1;\"/></g><g class=\"g-gtitle\"><text class=\"gtitle\" x=\"35\" y=\"50\" text-anchor=\"start\" dy=\"0em\" style=\"font-family: 'Open Sans', verdana, arial, sans-serif; font-size: 17px; fill: rgb(42, 63, 95); opacity: 1; font-weight: normal; white-space: pre;\">南瓜-木瓜形 平均價預測 - 2019</text></g><g class=\"g-xtitle\"><text class=\"xtitle\" x=\"338.5\" y=\"411.8\" text-anchor=\"middle\" style=\"font-family: 'Open Sans', verdana, arial, sans-serif; font-size: 14px; fill: rgb(42, 63, 95); opacity: 1; font-weight: normal; white-space: pre;\">Date</text></g><g class=\"g-ytitle\"><text class=\"ytitle\" transform=\"rotate(-90,40.465625,235)\" x=\"40.465625\" y=\"235\" text-anchor=\"middle\" style=\"font-family: 'Open Sans', verdana, arial, sans-serif; font-size: 14px; fill: rgb(42, 63, 95); opacity: 1; font-weight: normal; white-space: pre;\">價格 (元)</text></g></g></svg>"
      ]
     },
     "metadata": {},
     "output_type": "display_data"
    }
   ],
   "source": [
    "evl = Evaluator('data/test.csv')\n",
    "evl.load_predict('result/predict/南瓜-木瓜形_平均價_full_pred_week.csv', name='南瓜-木瓜形', target='平均價')\n",
    "evl.join()\n",
    "evl.plot(y_title='價格 (元)')\n",
    "evl.save(extra_tag='_full')"
   ]
  }
 ],
 "metadata": {
  "kernelspec": {
   "display_name": "Python 3",
   "language": "python",
   "name": "python3"
  },
  "language_info": {
   "codemirror_mode": {
    "name": "ipython",
    "version": 3
   },
   "file_extension": ".py",
   "mimetype": "text/x-python",
   "name": "python",
   "nbconvert_exporter": "python",
   "pygments_lexer": "ipython3",
   "version": "3.6.9"
  }
 },
 "nbformat": 4,
 "nbformat_minor": 2
}
