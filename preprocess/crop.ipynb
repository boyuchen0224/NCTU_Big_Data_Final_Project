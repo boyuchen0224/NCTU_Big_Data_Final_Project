{
 "cells": [
  {
   "cell_type": "markdown",
   "metadata": {},
   "source": [
    "# Todo\n",
    "\n",
    "- [x] 把資料分成各作物存\n",
    "- [ ] 把資料分成各作物、各市場存"
   ]
  },
  {
   "cell_type": "code",
   "execution_count": 1,
   "metadata": {},
   "outputs": [],
   "source": [
    "import pandas as pd"
   ]
  },
  {
   "cell_type": "markdown",
   "metadata": {},
   "source": [
    "# Load Data"
   ]
  },
  {
   "cell_type": "code",
   "execution_count": 4,
   "metadata": {},
   "outputs": [],
   "source": [
    "total_data = pd.read_csv('../price_with_typhoon_utf8.csv')\n",
    "total_data = total_data[['DateTime', '交易量', '市場名稱', '作物名稱', '平均價']]"
   ]
  },
  {
   "cell_type": "code",
   "execution_count": 5,
   "metadata": {},
   "outputs": [],
   "source": [
    "USED_CROPS = ['鳳梨-金鑽鳳梨', '香蕉', '青蔥-日蔥', '蓮霧-紅蓮霧', '芽菜類-黃豆牙', '南瓜-木瓜形', '大蒜-蒜仁', '小白菜-土白菜', '木瓜-網室紅肉', '洋香瓜-網狀紅肉']\n",
    "total_data = total_data[total_data['作物名稱'].isin(USED_CROPS)]"
   ]
  },
  {
   "cell_type": "markdown",
   "metadata": {},
   "source": [
    "# Group by crop & save csv files"
   ]
  },
  {
   "cell_type": "markdown",
   "metadata": {},
   "source": [
    "## Average the price of each day"
   ]
  },
  {
   "cell_type": "code",
   "execution_count": 31,
   "metadata": {},
   "outputs": [],
   "source": [
    "for name, data in total_data.groupby('作物名稱'):\n",
    "  avg_data = data.groupby(by=['DateTime']).mean()\n",
    "  sum_data = data.groupby(by=['DateTime']).sum()\n",
    "  df_data = {'平均價': [], '交易量': [], 'DateTime': []}\n",
    "  for idx, row in avg_data.iterrows():\n",
    "    df_data['平均價'].append(row['平均價'])\n",
    "    df_data['DateTime'].append(idx)\n",
    "  for _, row in sum_data.iterrows():\n",
    "    df_data['交易量'].append(row['交易量'])\n",
    "    \n",
    "  df = pd.DataFrame(df_data)\n",
    "  \n",
    "  df.to_csv(f'crop/{name}_avg.csv', index=False)"
   ]
  },
  {
   "cell_type": "markdown",
   "metadata": {},
   "source": [
    "## Save csv files by crop"
   ]
  },
  {
   "cell_type": "code",
   "execution_count": 12,
   "metadata": {},
   "outputs": [],
   "source": [
    "for name, data in total_data.groupby('作物名稱'):\n",
    "  data.to_csv(f'crop/{name}.csv', index=False)"
   ]
  },
  {
   "cell_type": "markdown",
   "metadata": {},
   "source": [
    "# Extract Typhoon Data"
   ]
  },
  {
   "cell_type": "code",
   "execution_count": 58,
   "metadata": {},
   "outputs": [],
   "source": [
    "import numpy as np\n",
    "tp_data = pd.read_csv('../price_with_typhoon_utf8.csv')"
   ]
  },
  {
   "cell_type": "code",
   "execution_count": 59,
   "metadata": {},
   "outputs": [],
   "source": [
    "# clean up redundant data\n",
    "USED_CROPS = ['香蕉']\n",
    "USED_MARKET = ['台北一']\n",
    "tp_data = tp_data[tp_data['作物名稱'].isin(USED_CROPS)]\n",
    "tp_data = tp_data[tp_data['市場名稱'].isin(USED_MARKET)]\n",
    "\n",
    "tp_data = tp_data[['DateTime', '入台時間', '離台時間', '強度', '警報發布報數']]"
   ]
  },
  {
   "cell_type": "code",
   "execution_count": 61,
   "metadata": {},
   "outputs": [],
   "source": [
    "tp_data.to_csv('typhoon.csv', index=False)\n",
    "\n",
    "# idx = 0\n",
    "\n",
    "# for _, row in tp_data.iterrows():\n",
    "#   idx += 1\n",
    "#   print(float('nan'))\n",
    "  \n",
    "#   if idx >= 10:\n",
    "#     break"
   ]
  }
 ],
 "metadata": {
  "kernelspec": {
   "display_name": "Python 3",
   "language": "python",
   "name": "python3"
  },
  "language_info": {
   "codemirror_mode": {
    "name": "ipython",
    "version": 3
   },
   "file_extension": ".py",
   "mimetype": "text/x-python",
   "name": "python",
   "nbconvert_exporter": "python",
   "pygments_lexer": "ipython3",
   "version": "3.6.9"
  }
 },
 "nbformat": 4,
 "nbformat_minor": 2
}
