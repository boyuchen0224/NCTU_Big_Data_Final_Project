{
 "cells": [
  {
   "cell_type": "markdown",
   "metadata": {},
   "source": [
    "# Todo\n",
    "\n",
    "- [x] 把成交量整理成每週加總\n",
    "- [ ] 加總同縣市市場"
   ]
  },
  {
   "cell_type": "code",
   "execution_count": 1,
   "metadata": {},
   "outputs": [],
   "source": [
    "import pandas as pd"
   ]
  },
  {
   "cell_type": "markdown",
   "metadata": {},
   "source": [
    "# Load Data"
   ]
  },
  {
   "cell_type": "code",
   "execution_count": 12,
   "metadata": {},
   "outputs": [],
   "source": [
    "total_data = pd.read_csv('../price_with_typhoon_utf8.csv')\n",
    "total_data = total_data[['DateTime', '交易量', '市場名稱', '作物名稱']]"
   ]
  },
  {
   "cell_type": "code",
   "execution_count": 13,
   "metadata": {},
   "outputs": [],
   "source": [
    "USED_CROPS = ['鳳梨-金鑽鳳梨', '香蕉', '青蔥-日蔥', '蓮霧-紅蓮霧', '芽菜類-黃豆牙', '南瓜-木瓜形', '大蒜-蒜仁', '小白菜-土白菜', '木瓜-網室紅肉', '洋香瓜-網狀紅肉']\n",
    "total_data = total_data[total_data['作物名稱'].isin(USED_CROPS)]"
   ]
  },
  {
   "cell_type": "markdown",
   "metadata": {},
   "source": [
    "# Sum up the total volume week by week"
   ]
  },
  {
   "cell_type": "markdown",
   "metadata": {},
   "source": [
    "## Create weekly sequence"
   ]
  },
  {
   "cell_type": "code",
   "execution_count": 18,
   "metadata": {},
   "outputs": [],
   "source": [
    "date_points = []\n",
    "start_date = pd.to_datetime('2012-01-01') - pd.DateOffset(days=7)\n",
    "end_date = start_date\n",
    "\n",
    "while end_date < pd.to_datetime('2020-01-01'):\n",
    "  start_date = end_date\n",
    "  end_date = pd.to_datetime(start_date) + pd.DateOffset(days=7)\n",
    "  date_points.append((start_date, end_date))"
   ]
  },
  {
   "cell_type": "markdown",
   "metadata": {},
   "source": [
    "## Extract 7 days from the data"
   ]
  },
  {
   "cell_type": "code",
   "execution_count": 21,
   "metadata": {},
   "outputs": [],
   "source": [
    "START = 0\n",
    "END = 1\n",
    "\n",
    "def extract_period(df, start, end):\n",
    "  return df[(pd.to_datetime(df['DateTime']) >= start) & (pd.to_datetime(df['DateTime']) < end)]"
   ]
  },
  {
   "cell_type": "markdown",
   "metadata": {},
   "source": [
    "## Group by crop & market and sum up the volume"
   ]
  },
  {
   "cell_type": "code",
   "execution_count": 53,
   "metadata": {},
   "outputs": [],
   "source": [
    "def sum_up_week(df, start, end):\n",
    "  summary = {'作物名稱': [], '市場名稱': [], '交易量': [], 'DateTime': [], 'Period': []}\n",
    "  week_data = extract_period(df, start, end)\n",
    "  week_sum = week_data.groupby(by=['作物名稱','市場名稱']).sum()\n",
    "  \n",
    "  for name, row in week_sum.iterrows():\n",
    "    summary['作物名稱'].append(name[0])\n",
    "    summary['市場名稱'].append(name[1])\n",
    "    summary['交易量'].append(row.values[0])\n",
    "    summary['DateTime'].append(str(start.date()))\n",
    "    summary['Period'].append(str(start.date())+'~'+str(end.date()))\n",
    "  \n",
    "  return pd.DataFrame.from_dict(summary)"
   ]
  },
  {
   "cell_type": "code",
   "execution_count": 56,
   "metadata": {},
   "outputs": [],
   "source": [
    "total_weeks = []\n",
    "\n",
    "for d in date_points:\n",
    "  total_weeks.append(sum_up_week(total_data, d[START], d[END]))"
   ]
  },
  {
   "cell_type": "code",
   "execution_count": 59,
   "metadata": {},
   "outputs": [],
   "source": [
    "# save file\n",
    "pd.concat(total_weeks).to_csv('volume_per_week.csv', index=False)"
   ]
  }
 ],
 "metadata": {
  "kernelspec": {
   "display_name": "Python 3",
   "language": "python",
   "name": "python3"
  },
  "language_info": {
   "codemirror_mode": {
    "name": "ipython",
    "version": 3
   },
   "file_extension": ".py",
   "mimetype": "text/x-python",
   "name": "python",
   "nbconvert_exporter": "python",
   "pygments_lexer": "ipython3",
   "version": "3.6.9"
  }
 },
 "nbformat": 4,
 "nbformat_minor": 2
}
