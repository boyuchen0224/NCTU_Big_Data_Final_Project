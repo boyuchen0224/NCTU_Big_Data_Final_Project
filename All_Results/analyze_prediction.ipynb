{
 "cells": [
  {
   "cell_type": "markdown",
   "metadata": {},
   "source": [
    "### Calculate difference of original 3 day return and predicted 3 day return"
   ]
  },
  {
   "cell_type": "code",
   "execution_count": 2,
   "metadata": {},
   "outputs": [],
   "source": [
    "import pandas as pd\n",
    "import numpy as np"
   ]
  },
  {
   "cell_type": "code",
   "execution_count": 4,
   "metadata": {},
   "outputs": [
    {
     "name": "stdout",
     "output_type": "stream",
     "text": [
      "香蕉 10.89\n",
      "洋香瓜 21.18\n",
      "蓮霧 19.12\n",
      "鳳梨 18.2\n",
      "南瓜 11.61\n",
      "大蒜 4.52\n",
      "青蔥 28.62\n",
      "小白菜 33.85\n",
      "芽菜類 1.13\n",
      "木瓜 25.78\n"
     ]
    }
   ],
   "source": [
    "veg = ['香蕉','洋香瓜','蓮霧','鳳梨','南瓜','大蒜','青蔥','小白菜','芽菜類','木瓜']\n",
    "\n",
    "for i in range(len(veg)):\n",
    "    day_return = pd.read_csv(\"./LSTM1_csv/2019_台北一_\"+veg[i]+\"_3_day_return.csv\")\n",
    "    price = pd.read_csv(\"./LSTM1_csv/2019_台北一_\"+veg[i]+\"_Price.csv\")\n",
    "    \n",
    "    result = np.sum(np.abs(day_return[\"3_day_return\"]-day_return[\"3_day_return_pred\"]))/len(day_return)\n",
    "    print(veg[i],np.round(result,2))"
   ]
  },
  {
   "cell_type": "code",
   "execution_count": 5,
   "metadata": {},
   "outputs": [
    {
     "name": "stdout",
     "output_type": "stream",
     "text": [
      "香蕉 5.28\n",
      "洋香瓜-網狀紅肉 14.59\n",
      "蓮霧-紅蓮霧 11.31\n",
      "鳳梨-金鑽鳳梨 6.9\n",
      "南瓜-木瓜形 7.94\n",
      "大蒜-蒜瓣 7.04\n",
      "青蔥-日蔥 11.65\n",
      "小白菜-土白菜 13.55\n",
      "芽菜類-黃豆牙 1.24\n",
      "木瓜-網室紅肉 8.33\n"
     ]
    }
   ],
   "source": [
    "veg = ['香蕉','洋香瓜-網狀紅肉','蓮霧-紅蓮霧','鳳梨-金鑽鳳梨','南瓜-木瓜形',\n",
    "        '大蒜-蒜瓣','青蔥-日蔥','小白菜-土白菜','芽菜類-黃豆牙','木瓜-網室紅肉']\n",
    "\n",
    "\n",
    "for i in range(len(veg)):\n",
    "    day_return = pd.read_csv(\"./LSTM2_csv/\"+veg[i]+\"_3_day_return.csv\")\n",
    "    \n",
    "    result = np.sum(np.abs(day_return[\"Original\"]-day_return[\"Predict\"]))/len(day_return)\n",
    "    print(veg[i],np.round(result,2))"
   ]
  },
  {
   "cell_type": "code",
   "execution_count": 6,
   "metadata": {},
   "outputs": [
    {
     "name": "stdout",
     "output_type": "stream",
     "text": [
      "香蕉 7.76\n",
      "洋香瓜 15.92\n",
      "蓮霧 12.43\n",
      "鳳梨 11.65\n",
      "南瓜 10.41\n",
      "大蒜 1.31\n",
      "青蔥 13.98\n",
      "小白菜 21.43\n",
      "芽菜類 0.41\n",
      "木瓜 13.41\n"
     ]
    }
   ],
   "source": [
    "veg = ['香蕉','洋香瓜','蓮霧','鳳梨','南瓜','大蒜','青蔥','小白菜','芽菜類','木瓜']\n",
    "\n",
    "\n",
    "for i in range(len(veg)):\n",
    "    day_return = pd.read_csv(\"./ARIMA_csv/\"+veg[i]+\"_3DayReturn.csv\")\n",
    "    \n",
    "    result = np.sum(np.abs(day_return[\"original\"]-day_return[\"predict\"]))/len(day_return)\n",
    "    print(veg[i],np.round(result,2))"
   ]
  },
  {
   "cell_type": "code",
   "execution_count": 8,
   "metadata": {},
   "outputs": [
    {
     "name": "stdout",
     "output_type": "stream",
     "text": [
      "香蕉 8.1\n",
      "洋香瓜-網狀紅肉 17.35\n",
      "蓮霧-紅蓮霧 12.34\n",
      "鳳梨-金鑽鳳梨 11.57\n",
      "南瓜-木瓜形 10.46\n",
      "大蒜-蒜仁 1.79\n",
      "青蔥-日蔥 15.21\n",
      "小白菜-土白菜 22.91\n",
      "芽菜類-黃豆牙 0.76\n",
      "木瓜-網室紅肉 15.15\n"
     ]
    }
   ],
   "source": [
    "veg = ['香蕉','洋香瓜-網狀紅肉','蓮霧-紅蓮霧','鳳梨-金鑽鳳梨','南瓜-木瓜形',\n",
    "        '大蒜-蒜仁','青蔥-日蔥','小白菜-土白菜','芽菜類-黃豆牙','木瓜-網室紅肉']\n",
    "\n",
    "for i in range(len(veg)):\n",
    "    day_return = pd.read_csv(\"./Prophet_csv/\"+veg[i]+\"_3_day_return.csv\")\n",
    "    \n",
    "    result = np.sum(np.abs(day_return[\"3_day_return\"]-day_return[\"predict\"]))/len(day_return)\n",
    "    print(veg[i],np.round(result,2))"
   ]
  },
  {
   "cell_type": "code",
   "execution_count": null,
   "metadata": {},
   "outputs": [],
   "source": []
  },
  {
   "cell_type": "code",
   "execution_count": null,
   "metadata": {},
   "outputs": [],
   "source": []
  }
 ],
 "metadata": {
  "kernelspec": {
   "display_name": "Python 3",
   "language": "python",
   "name": "python3"
  },
  "language_info": {
   "codemirror_mode": {
    "name": "ipython",
    "version": 3
   },
   "file_extension": ".py",
   "mimetype": "text/x-python",
   "name": "python",
   "nbconvert_exporter": "python",
   "pygments_lexer": "ipython3",
   "version": "3.6.12"
  }
 },
 "nbformat": 4,
 "nbformat_minor": 4
}
